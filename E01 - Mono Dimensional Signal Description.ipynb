{
 "cells": [
  {
   "cell_type": "markdown",
   "metadata": {
    "id": "uxsSHz194QBj"
   },
   "source": [
    "# **Digital Signal and Image Management - Assignement 1**<br/>\n",
    "\n",
    "**Master's Degree in Data Science (A.Y. 2024/2025)**<br/>\n",
    "**University of Milano - Bicocca**<br/>\n",
    "\n",
    "Student: Sara **Nava**, mat. **870885**"
   ]
  },
  {
   "cell_type": "markdown",
   "metadata": {
    "id": "zCd0kjz_467x"
   },
   "source": [
    "## **Assignement Description**\n",
    "Implement the **Zero-Crossing Rate** (ZCR) feature to describe a single-channel audio signal, starting from the commands shown during the laboratory.\n",
    "\n",
    "Rules:\n",
    "\n",
    "- Show the effects on classification performance for the dataset \"free-spoken-digit-dataset\" (recordings.tar).\n",
    "- Verify the effect of using ZCR alone and in combination with other features available in the published notebook.\n",
    "Using libraries such as Librosa is not allowed, as they offer pre-made functions to compute ZCR.\n",
    "- It is, instead, possible to use numpy for the basic operations (shift, sign, etc.).\n",
    "- Many variations of ZCR exist and will be accepted: whenever you make arbitrary decisions in the implementation, just describe them in the submission."
   ]
  },
  {
   "cell_type": "markdown",
   "metadata": {
    "id": "iA5MKE2G5MA9"
   },
   "source": [
    "## **Import packages**\n",
    "Import main packages"
   ]
  },
  {
   "cell_type": "code",
   "execution_count": 1,
   "metadata": {
    "id": "VzZN1a0s5JmH"
   },
   "outputs": [],
   "source": [
    "# Import\n",
    "import os\n",
    "import numpy as np\n",
    "from time import time\n",
    "from scipy.io import wavfile as wav\n",
    "import matplotlib.pyplot as plt\n",
    "import IPython.display as ipd\n",
    "from sklearn.svm import SVC\n",
    "from sklearn.model_selection import train_test_split, GridSearchCV\n",
    "from sklearn.metrics import classification_report, confusion_matrix\n",
    "from google.colab import drive\n",
    "import tarfile\n",
    "from shutil import copyfile"
   ]
  },
  {
   "cell_type": "markdown",
   "metadata": {
    "id": "kPeV0ogp5eDW"
   },
   "source": [
    "## **Load Data**\n",
    "Data can be retrieved from Google Drive, as follows:"
   ]
  },
  {
   "cell_type": "code",
   "execution_count": 2,
   "metadata": {
    "colab": {
     "base_uri": "https://localhost:8080/"
    },
    "id": "WsMdWWta5uhH",
    "outputId": "641907df-4c0b-4204-f24e-abf5bcc0fcbb"
   },
   "outputs": [
    {
     "name": "stdout",
     "output_type": "stream",
     "text": [
      "Drive already mounted at /content/gdrive; to attempt to forcibly remount, call drive.mount(\"/content/gdrive\", force_remount=True).\n"
     ]
    }
   ],
   "source": [
    "# Link Google Drive account, transfer dataset, and extract files\n",
    "drive.mount('/content/gdrive')\n",
    "copyfile('gdrive/My Drive/Digital Signal and Image Management/recordings.tar', 'recordings.tar')\n",
    "tar = tarfile.open('recordings.tar')\n",
    "tar.extractall()\n",
    "tar.close()"
   ]
  },
  {
   "cell_type": "markdown",
   "metadata": {
    "id": "rDd2XV6Bzu71"
   },
   "source": [
    "Then, define the function `load_data` that allows to load data."
   ]
  },
  {
   "cell_type": "code",
   "execution_count": 3,
   "metadata": {
    "id": "KQt3sOgO0F5h"
   },
   "outputs": [],
   "source": [
    "# Placecholder for feature extractor\n",
    "def identity(input):\n",
    "    return input\n",
    "\n",
    "# Data loader\n",
    "def load_data(feature_extractor=identity, normalize=False):\n",
    "\n",
    "    labels = []\n",
    "    features = []\n",
    "\n",
    "    for f in sorted(os.listdir('./recordings')):\n",
    "        if f.endswith('.wav'):\n",
    "            # Load file and compute the requested features\n",
    "            _, signal = wav.read('./recordings/' + f)\n",
    "            cur_features = feature_extractor(signal)\n",
    "            features.append(cur_features)\n",
    "\n",
    "            # Classes\n",
    "            label = f.split('_')[0]\n",
    "            labels.append(label)\n",
    "\n",
    "    # X: features, y: labels\n",
    "    X_train, X_test, y_train, y_test = train_test_split(features, labels, test_size=0.1, random_state=1)\n",
    "\n",
    "    if normalize:\n",
    "        eps = 0.001\n",
    "        X_train = np.array(X_train)\n",
    "        X_train_mean = X_train.mean(axis=0)\n",
    "        X_train_std = X_train.std(axis=0)\n",
    "        X_train = (X_train - X_train_mean + eps)/(X_train_std + eps)\n",
    "        X_train = [row for row in X_train]\n",
    "\n",
    "        X_test = [row for row in (np.array(X_test) - X_train_mean + eps)/(X_train_std + eps)]\n",
    "\n",
    "    return X_train, X_test, y_train, y_test"
   ]
  },
  {
   "cell_type": "markdown",
   "metadata": {
    "id": "CpqaFrO_0GoN"
   },
   "source": [
    "The function is structured as follows:\n",
    "1. Load the data from disk\n",
    "2. Extract the class specified in the filename\n",
    "3. Split audio tracks into training set and test set\n",
    "4. Normalize the data using training set statistics"
   ]
  },
  {
   "cell_type": "markdown",
   "metadata": {
    "id": "JJzzNRGJ0X9C"
   },
   "source": [
    "## **Features**"
   ]
  },
  {
   "cell_type": "markdown",
   "metadata": {
    "id": "MQpjNDbt0ePa"
   },
   "source": [
    "The goal of this exercise is to define the **ZCR** function. According to the definition provided by [Wikipedia](https://en.wikipedia.org/wiki/Zero-crossing_rate), the *Zero Crossing Rate* is the **rate** at which a signal changes **from positive to negative or from negative to positive**. It can be represented by the following formula:\n",
    "$ZCR = \\frac{1}{T-1} \\sum_{t=1}^{T-1} \\mathbb{I}[s(t) \\cdot s(t-1) < 0]$"
   ]
  },
  {
   "cell_type": "markdown",
   "metadata": {
    "id": "E-LFcY4ZbsbQ"
   },
   "source": [
    "In this view, the function must return a real value that represents the zero crossing rate. Let's make it step-by-step:"
   ]
  },
  {
   "cell_type": "code",
   "execution_count": 4,
   "metadata": {
    "id": "4e9apAv-36Um"
   },
   "outputs": [],
   "source": [
    "# Read file 0_jackson_0.wav\n",
    "sound_rate, sound_data = wav.read('recordings/0_jackson_0.wav')"
   ]
  },
  {
   "cell_type": "markdown",
   "metadata": {
    "id": "1tFAI1Gbcl8c"
   },
   "source": [
    "The array `sound_data` contains the audio sample, while `sound_rate` contains the sample rate (measured in samples per second, indicates how many samples can be played in one second)."
   ]
  },
  {
   "cell_type": "code",
   "execution_count": 5,
   "metadata": {
    "colab": {
     "base_uri": "https://localhost:8080/"
    },
    "id": "6yiA6biud6yX",
    "outputId": "fbb54915-479e-4203-d8c5-ef9d3a9c7dd7"
   },
   "outputs": [
    {
     "name": "stdout",
     "output_type": "stream",
     "text": [
      "8000 [-369 -431 -475 ...  301  324  304]\n"
     ]
    }
   ],
   "source": [
    "print(sound_rate, sound_data)"
   ]
  },
  {
   "cell_type": "markdown",
   "metadata": {
    "id": "fW8nnJpOelPk"
   },
   "source": [
    "Now, compute the product of adjacent elements in the `sound_data` array and determine the sign of each product. Then, consider only the negative signs (because a negative sign indicates a change in sign between two adjacent elements), count them, and divide this total by the length of the array minus one."
   ]
  },
  {
   "cell_type": "code",
   "execution_count": 6,
   "metadata": {
    "colab": {
     "base_uri": "https://localhost:8080/"
    },
    "id": "TPDPtgGy0QIE",
    "outputId": "f1090843-19a4-4ac7-9d26-3d06903598c4"
   },
   "outputs": [
    {
     "data": {
      "text/plain": [
       "array([0.09617253])"
      ]
     },
     "execution_count": 6,
     "metadata": {},
     "output_type": "execute_result"
    }
   ],
   "source": [
    "signs = np.sign(np.multiply(sound_data[:-1], sound_data[1:], dtype=np.float64)) # signs of the product of adjacent numbers\n",
    "\n",
    "# Now compute the ZCR as the number of cases of sign-switch\n",
    "zcr_index = np.sum((signs<0) , keepdims=True) / (sound_data.shape[0]-1)\n",
    "zcr_index"
   ]
  },
  {
   "cell_type": "markdown",
   "metadata": {
    "id": "rYazrU9LkJjR"
   },
   "source": [
    "This is the output that the function must produce for each audio track.\n",
    "\n",
    "Now it is possible to develop the function to apply to the entire dataset."
   ]
  },
  {
   "cell_type": "code",
   "execution_count": 7,
   "metadata": {
    "id": "AINV_wT5laQd"
   },
   "outputs": [],
   "source": [
    "def zcr(input):\n",
    "  signs = np.sign(np.multiply(input[:-1], input[1:], dtype=np.float64)) # signs of the product of adjacent numbers\n",
    "\n",
    "  # Now compute the ZCR as the rate of cases of sign-switch\n",
    "  zcr_index = np.sum((signs<0) , keepdims=True) / (input.shape[0]-1)\n",
    "  return zcr_index"
   ]
  },
  {
   "cell_type": "markdown",
   "metadata": {
    "id": "AHODHJ87mwi2"
   },
   "source": [
    "### **Classification using only ZCR as feature**"
   ]
  },
  {
   "cell_type": "markdown",
   "metadata": {
    "id": "Qxp5to4bmMU1"
   },
   "source": [
    "Verify the effect of using **ZCR alone** on classification performance for the dataset \"free-spoken-digit-dataset\"."
   ]
  },
  {
   "cell_type": "code",
   "execution_count": 8,
   "metadata": {
    "id": "OMvcGPwgnKNs"
   },
   "outputs": [],
   "source": [
    "# Split data into training and test sets, applying normalization and using ZRC as feature extractor\n",
    "x_train, x_test, y_train, y_test = load_data(feature_extractor=zcr, normalize = True)"
   ]
  },
  {
   "cell_type": "markdown",
   "metadata": {
    "id": "HZqi6IzPnfHR"
   },
   "source": [
    "Define SVM classificator with hyperparameters optimization:"
   ]
  },
  {
   "cell_type": "code",
   "execution_count": 9,
   "metadata": {
    "id": "yraueroyoUbH"
   },
   "outputs": [],
   "source": [
    "# Define hyperparameters to try\n",
    "p = {'C': [100, 500, 1000],\n",
    "     'gamma': [0.005, 0.01, 0.1, 0.5, 1.0]}\n",
    "\n",
    "clf = GridSearchCV(SVC(kernel='rbf', class_weight='balanced'),\n",
    "                   p,\n",
    "                   cv = 2\n",
    "                   )"
   ]
  },
  {
   "cell_type": "markdown",
   "metadata": {
    "id": "Ko0B_-4loiUc"
   },
   "source": [
    "Fit the model on training data and then test it:"
   ]
  },
  {
   "cell_type": "code",
   "execution_count": 10,
   "metadata": {
    "colab": {
     "base_uri": "https://localhost:8080/"
    },
    "id": "oLYkXbycon0C",
    "outputId": "7b43b977-366a-4520-e84e-5dd81da9cb64"
   },
   "outputs": [
    {
     "name": "stderr",
     "output_type": "stream",
     "text": [
      "/usr/local/lib/python3.10/dist-packages/numpy/ma/core.py:2820: RuntimeWarning: invalid value encountered in cast\n",
      "  _data = np.array(data, dtype=dtype, copy=copy,\n"
     ]
    },
    {
     "name": "stdout",
     "output_type": "stream",
     "text": [
      "Best parameters combination:\n",
      " C: 100\n",
      " gamma: 1.0\n"
     ]
    }
   ],
   "source": [
    "clf = clf.fit(x_train, y_train)\n",
    "# Result of the cross validation for parameters selection\n",
    "print('Best parameters combination:')\n",
    "print(' C: '+str(clf.best_estimator_.C))\n",
    "print(' gamma: '+str(clf.best_estimator_.gamma))"
   ]
  },
  {
   "cell_type": "markdown",
   "metadata": {
    "id": "oHmM167roiQH"
   },
   "source": [
    "Finally, make predictions on the test set and comment on the classification performance and confusion matrix."
   ]
  },
  {
   "cell_type": "code",
   "execution_count": 11,
   "metadata": {
    "id": "NAFoh95DpZd8"
   },
   "outputs": [],
   "source": [
    "# Make predictions\n",
    "y_pred = clf.predict(x_test)"
   ]
  },
  {
   "cell_type": "code",
   "execution_count": 12,
   "metadata": {
    "colab": {
     "base_uri": "https://localhost:8080/"
    },
    "id": "I8GIbt7Npesm",
    "outputId": "49272f8b-3a9e-47c8-b7e3-2a8dc5a9b22a"
   },
   "outputs": [
    {
     "name": "stdout",
     "output_type": "stream",
     "text": [
      "              precision    recall  f1-score   support\n",
      "\n",
      "           0       0.23      0.53      0.32        17\n",
      "           1       0.12      0.50      0.19        10\n",
      "           2       0.27      0.20      0.23        15\n",
      "           3       0.00      0.00      0.00        19\n",
      "           4       0.00      0.00      0.00        11\n",
      "           5       0.12      0.14      0.13        14\n",
      "           6       0.92      0.79      0.85        14\n",
      "           7       0.00      0.00      0.00        19\n",
      "           8       0.31      0.24      0.27        17\n",
      "           9       0.00      0.00      0.00        14\n",
      "\n",
      "    accuracy                           0.23       150\n",
      "   macro avg       0.20      0.24      0.20       150\n",
      "weighted avg       0.19      0.23      0.19       150\n",
      "\n"
     ]
    },
    {
     "name": "stderr",
     "output_type": "stream",
     "text": [
      "/usr/local/lib/python3.10/dist-packages/sklearn/metrics/_classification.py:1531: UndefinedMetricWarning: Precision is ill-defined and being set to 0.0 in labels with no predicted samples. Use `zero_division` parameter to control this behavior.\n",
      "  _warn_prf(average, modifier, f\"{metric.capitalize()} is\", len(result))\n",
      "/usr/local/lib/python3.10/dist-packages/sklearn/metrics/_classification.py:1531: UndefinedMetricWarning: Precision is ill-defined and being set to 0.0 in labels with no predicted samples. Use `zero_division` parameter to control this behavior.\n",
      "  _warn_prf(average, modifier, f\"{metric.capitalize()} is\", len(result))\n",
      "/usr/local/lib/python3.10/dist-packages/sklearn/metrics/_classification.py:1531: UndefinedMetricWarning: Precision is ill-defined and being set to 0.0 in labels with no predicted samples. Use `zero_division` parameter to control this behavior.\n",
      "  _warn_prf(average, modifier, f\"{metric.capitalize()} is\", len(result))\n"
     ]
    }
   ],
   "source": [
    "# Compute classificator performance\n",
    "print(classification_report(y_test, y_pred))"
   ]
  },
  {
   "cell_type": "markdown",
   "metadata": {
    "id": "MpwMBqe9PZqo"
   },
   "source": [
    "Based on the retrieved results, starting with the **precision**, it is evident that—except for *class 6*—the rate of true positives among the predictions classified as true is quite low for each class. This indicates that the *classifier is not performing well in correctly identifying true* observations.\n",
    "\n",
    "Similarly, the **recall** shows a comparable pattern: for most classes, a *very low percentage of actual positive instances were correctly classified*, with the exception of *class 6*, which has a higher recall, though *class 0* and *class 1* show slightly better results compared to the others, albeit still low overall. Notably, for classes 3, 4, 7, and 9, the recall is zero, indicating that no true positives were identified.\n",
    "\n",
    "The **f1-score**, which combines both precision and recall, reflects these findings.\n",
    "\n",
    "Finally, considering the macro and weighted averages for each metric (both around 20%) and the overall **accuracy** of **23%**, it is clear that the classifier is performing poorly on the audio signal classification task."
   ]
  },
  {
   "cell_type": "code",
   "execution_count": 13,
   "metadata": {
    "colab": {
     "base_uri": "https://localhost:8080/",
     "height": 449
    },
    "id": "2ikktblJqWAH",
    "outputId": "070d57b8-81bb-481f-e8b4-68bdb6736ef2"
   },
   "outputs": [
    {
     "data": {
      "image/png": "[encoded data removed]",
      "text/plain": [
       "<Figure size 640x480 with 1 Axes>"
      ]
     },
     "metadata": {},
     "output_type": "display_data"
    }
   ],
   "source": [
    "# Plot the confusion matrix\n",
    "confusion_mat = confusion_matrix(y_pred=y_pred, y_true=y_test)\n",
    "plt.imshow(confusion_mat, cmap=plt.cm.Blues);\n",
    "plt.xlabel('Prediction');\n",
    "plt.ylabel('Ground truth');"
   ]
  },
  {
   "cell_type": "markdown",
   "metadata": {
    "id": "jnHdTZODm8SP"
   },
   "source": [
    "The **confusion matrix** summarizes the observed results well: the classifier performs particularly poorly in classifying classes 3, 4, 7, and 9, while showing some improvement in classes 0 and 1, and significantly better performance in class 6.\n",
    "\n",
    "Overall, it is clear that the SVM is misclassifying a significant amount of data, as there is no prominent diagonal in the confusion matrix. An evident diagonal would indicate that a large proportion of data in each class is correctly classified. In this case, however, the classification appears almost random.\n",
    "\n",
    "Additionally, it can be observed that no signals are assigned to *classes 7* and *9*."
   ]
  },
  {
   "cell_type": "markdown",
   "metadata": {
    "id": "YtBhbVXIo-of"
   },
   "source": [
    "### **Classification with features combination**"
   ]
  },
  {
   "cell_type": "markdown",
   "metadata": {
    "id": "wVJxgXIamSYn"
   },
   "source": [
    "Verify the effect of using **ZCR in combination with features** `energy` and `duration` (defined subsequently) on classification performance for the dataset \"free-spoken-digit-dataset\"."
   ]
  },
  {
   "cell_type": "markdown",
   "metadata": {
    "id": "JQwTIZDVoEIh"
   },
   "source": [
    "Define `energy` function:"
   ]
  },
  {
   "cell_type": "code",
   "execution_count": 14,
   "metadata": {
    "id": "G3CjAqSRmsSR"
   },
   "outputs": [],
   "source": [
    "# Define energy function: sum of all squared elements in the audio track\n",
    "def energy(array):\n",
    "  return np.sum(np.square(array**1.0), keepdims=True)"
   ]
  },
  {
   "cell_type": "markdown",
   "metadata": {
    "id": "mIHBc_HEoUeo"
   },
   "source": [
    "Define `duration` function:"
   ]
  },
  {
   "cell_type": "code",
   "execution_count": 15,
   "metadata": {
    "id": "BTZc0uF0oWsD"
   },
   "outputs": [],
   "source": [
    "def duration(input):\n",
    "  return np.array(input.shape)"
   ]
  },
  {
   "cell_type": "markdown",
   "metadata": {
    "id": "nte7cw9Zoad9"
   },
   "source": [
    "Now, define a `combo_features` function, to combine `zcr` with `energy` and `duration` features."
   ]
  },
  {
   "cell_type": "code",
   "execution_count": 16,
   "metadata": {
    "id": "34tgKjp6sz8E"
   },
   "outputs": [],
   "source": [
    "def combo_features(input):\n",
    "  return np.concatenate((zcr(input), energy(input), duration(input)))"
   ]
  },
  {
   "cell_type": "markdown",
   "metadata": {
    "id": "jIDScCzQtIf_"
   },
   "source": [
    "At this point, repeat the same procedure as in the previous request: split data into training and test sets, and then train and test an SVM classifier with hyperparameter optimization on data."
   ]
  },
  {
   "cell_type": "code",
   "execution_count": 17,
   "metadata": {
    "id": "TnuEh2ulthDk"
   },
   "outputs": [],
   "source": [
    "# Split data into training and test sets, applying normalization and using ZRC as feature extractor\n",
    "x_train2, x_test2, y_train2, y_test2 = load_data(feature_extractor=combo_features, normalize = True)"
   ]
  },
  {
   "cell_type": "markdown",
   "metadata": {
    "id": "mqUVroxmuVCW"
   },
   "source": [
    "Define SVM classificator with hyperparameters optimization:"
   ]
  },
  {
   "cell_type": "code",
   "execution_count": 18,
   "metadata": {
    "id": "H65DU_yPuVCZ"
   },
   "outputs": [],
   "source": [
    "# Define hyperparameters to try\n",
    "p = {'C': [100, 500, 1000],\n",
    "     'gamma': [0.005, 0.01, 0.1, 0.5, 1.0]}\n",
    "\n",
    "clf_combo = GridSearchCV(SVC(kernel='rbf', class_weight='balanced'),\n",
    "                         p,\n",
    "                         cv = 2\n",
    "                         )"
   ]
  },
  {
   "cell_type": "markdown",
   "metadata": {
    "id": "rtWZWhuwuVCa"
   },
   "source": [
    "Fit the model on training data and then test it:"
   ]
  },
  {
   "cell_type": "code",
   "execution_count": 19,
   "metadata": {
    "colab": {
     "base_uri": "https://localhost:8080/"
    },
    "id": "-suqzIdzuVCa",
    "outputId": "88804677-abfc-4d4a-9883-24d739271dc9"
   },
   "outputs": [
    {
     "name": "stdout",
     "output_type": "stream",
     "text": [
      "Best parameters combination:\n",
      " C: 100\n",
      " gamma: 0.5\n"
     ]
    }
   ],
   "source": [
    "clf_combo = clf_combo.fit(x_train2, y_train2)\n",
    "\n",
    "# Result of the cross validation for parameters selection\n",
    "print('Best parameters combination:')\n",
    "print(' C: '+str(clf_combo.best_estimator_.C))\n",
    "print(' gamma: '+str(clf_combo.best_estimator_.gamma))"
   ]
  },
  {
   "cell_type": "markdown",
   "metadata": {
    "id": "jSR-qVjPuVCb"
   },
   "source": [
    "Finally, make predictions on the test set and comment on the classification performance and confusion matrix."
   ]
  },
  {
   "cell_type": "code",
   "execution_count": 20,
   "metadata": {
    "id": "JHA1j00auVCc"
   },
   "outputs": [],
   "source": [
    "# Make predictions\n",
    "y_pred2 = clf_combo.predict(x_test2)"
   ]
  },
  {
   "cell_type": "code",
   "execution_count": 21,
   "metadata": {
    "colab": {
     "base_uri": "https://localhost:8080/"
    },
    "id": "e_V8zVbEuVCd",
    "outputId": "915e2c27-4d80-4846-c779-3f18077e8d27"
   },
   "outputs": [
    {
     "name": "stdout",
     "output_type": "stream",
     "text": [
      "              precision    recall  f1-score   support\n",
      "\n",
      "           0       0.75      0.71      0.73        17\n",
      "           1       0.37      0.70      0.48        10\n",
      "           2       0.57      0.53      0.55        15\n",
      "           3       0.73      0.42      0.53        19\n",
      "           4       0.40      0.55      0.46        11\n",
      "           5       0.41      0.50      0.45        14\n",
      "           6       0.85      0.79      0.81        14\n",
      "           7       0.42      0.26      0.32        19\n",
      "           8       0.50      0.53      0.51        17\n",
      "           9       0.67      0.71      0.69        14\n",
      "\n",
      "    accuracy                           0.55       150\n",
      "   macro avg       0.57      0.57      0.55       150\n",
      "weighted avg       0.58      0.55      0.55       150\n",
      "\n"
     ]
    }
   ],
   "source": [
    "# Compute classificator performance\n",
    "print(classification_report(y_test2, y_pred2))"
   ]
  },
  {
   "cell_type": "markdown",
   "metadata": {
    "id": "j7AxFl2PvDTx"
   },
   "source": [
    "Compared to the previous classifier, applying SVM on data with a combination of features (ZCR, energy, and duration) results in **better performance**. Notably, the rate of true positives is no longer zero for any class. Once again, the classifier performs **best** on *class 6*, suggesting that this class is likely the most easily distinguishable, with well-defined characteristics that set it apart from the other classes.\n",
    "\n",
    "In addition, *class 0* shows good performance in terms of both **precision** and **recall**, while *class 1* has relatively high recall but lower precision. This indicates that the classifier is good at identifying *class 1* signals but often misclassifies signals from other classes as belonging to *class 1*. Conversely, *class 3* exhibits the opposite behavior, with high precision but low recall, meaning the classifier is accurate when predicting *class 3*, but it fails to capture a large portion of the actual *class 3* signals.\n",
    "\n",
    "Significantly, *class 9* —which was previously misclassified entirely when using only the ZCR feature— now shows a considerable improvement in both precision and recall. While some other classes still exhibit low performance, none have precision or recall values below about 30%, which demonstrates a clear improvement compared to the earlier results.\n",
    "\n",
    "The aggregated metrics, such as **macro** and **weighted averages**, along with **accuracy**, are now around **55%**. While this is **still not highly satisfactory**, it represents a **marked improvement over the previous results**. Thus, the addition of energy and duration features has contributed to better overall classification performance."
   ]
  },
  {
   "cell_type": "code",
   "execution_count": 22,
   "metadata": {
    "colab": {
     "base_uri": "https://localhost:8080/",
     "height": 499
    },
    "id": "7nI-crlEuVCd",
    "outputId": "1e77027f-c65e-43de-9321-3aef188b7a2c"
   },
   "outputs": [
    {
     "data": {
      "image/png": "[encoded data removed]",
      "text/plain": [
       "<Figure size 1200x500 with 2 Axes>"
      ]
     },
     "metadata": {},
     "output_type": "display_data"
    }
   ],
   "source": [
    "# Plot the confusion matrix and make comparison with previous results\n",
    "\n",
    "# Create subplots with 1 row and 2 columns\n",
    "fig, axes = plt.subplots(1, 2, figsize=(12, 5))  # Adjust figsize as needed\n",
    "\n",
    "# Plot the first confusion matrix\n",
    "axes[0].imshow(confusion_mat, cmap=plt.cm.Blues)\n",
    "axes[0].set_title('Confusion Matrix - Only ZCR')\n",
    "axes[0].set_xlabel('Prediction')\n",
    "axes[0].set_ylabel('Ground truth')\n",
    "\n",
    "# Plot the second confusion matrix\n",
    "confusion_mat2 = confusion_matrix(y_pred=y_pred2, y_true=y_test2)\n",
    "axes[1].imshow(confusion_mat2, cmap=plt.cm.Blues)\n",
    "axes[1].set_title('Confusion Matrix - Features Combination')\n",
    "axes[1].set_xlabel('Prediction')\n",
    "axes[1].set_ylabel('Ground truth')\n",
    "\n",
    "# Add some spacing between the subplots\n",
    "plt.tight_layout()\n",
    "\n",
    "# Show the plots\n",
    "plt.show()"
   ]
  },
  {
   "cell_type": "markdown",
   "metadata": {
    "id": "aYIJinwm5OZf"
   },
   "source": [
    "It is clear that the second confusion matrix shows a more pronounced diagonal,\n",
    "indicating higher accuracy in classifying signals across all classes. The good\n",
    "performance on *classes 6* and *0* is maintained, and there is a noticeable\n",
    "improvement across the other classes. Moving away from the diagonal, the lighter-colored\n",
    "squares represent a lower rate of misclassification, especially in comparison to the first\n",
    "matrix, where the diagonal was not as evident.\n",
    "\n",
    "In the second matrix, the majority of misclassifications occur in *class 3* (as previously\n",
    "mentioned), where about half of its signals are incorrectly classified as *class 1*.\n",
    "Additional misclassifications are observed in *class 5*, where some signals are assigned\n",
    "to *class 4*, and in *class 7*, where there is some confusion with *class 8*."
   ]
  }
 ],
 "metadata": {
  "colab": {
   "provenance": [],
   "toc_visible": true
  },
  "kernelspec": {
   "display_name": "Python 3",
   "name": "python3"
  },
  "language_info": {
   "name": "python"
  }
 },
 "nbformat": 4,
 "nbformat_minor": 0
}
