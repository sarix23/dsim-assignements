{
  "nbformat": 4,
  "nbformat_minor": 0,
  "metadata": {
    "colab": {
      "provenance": []
    },
    "kernelspec": {
      "name": "python3",
      "display_name": "Python 3"
    },
    "language_info": {
      "name": "python"
    }
  },
  "cells": [
    {
      "cell_type": "markdown",
      "source": [
        "# **Digital Signal and Image Management - Assignement 2**<br/>\n",
        "\n",
        "**Master's Degree in Data Science (A.Y. 2024/2025)**<br/>\n",
        "**University of Milano - Bicocca**<br/>\n",
        "\n",
        "Student: Sara **Nava**, mat. **870885**"
      ],
      "metadata": {
        "id": "uxsSHz194QBj"
      }
    },
    {
      "cell_type": "markdown",
      "source": [
        "## **Assignement Description**\n",
        "\n",
        "Implement two distinct feature extractors based respectively on **Spectrogram**, and **MFCC**. Consider a single-channel audio signal, and start from the commands shown during the laboratory.\n",
        "\n",
        "**Rules**:\n",
        "\n",
        "- Show the effects on classification performance for the dataset \"free-spoken-digit-dataset\" (recordings.tar).\n",
        "- No feature combination is required for this assignment.\n",
        "- You can (and should!) use Librosa for the audio description.\n",
        "\n",
        "\n",
        "**Approach**:\n",
        "1. Extract the 2-dimensional feature\n",
        "2. Force the feature to have fixed size\n",
        "3. Unroll the 2-dimensional feature into a 1-dimensional vector\n",
        "\n",
        "**Hint:**\n",
        "* For a given feature (e.g. Spectrogram) we still want to **fix the feature length**, independent of the initial audio track.\n",
        "* Since now we have two dimensions (rows = frequencies, and cols = time blocks), we have to think about both.\n",
        "  * The **rows** will be **fixed by default**, assuming fixed parameters for the spectrogram extraction.\n",
        "  * The **columns will change**, based on the duration of the input track.\n",
        "* Fixing the feature size *after* unrolling to 1 dimension would be easier, but it is conceptually wrong:\n",
        "  * Unrolling two matrices with different columns would distribute the same frequencies in different positions in the vector.\n",
        "  * This would make the classifier unable to reliably \"look\" for a specific sub-feature in a specific position."
      ],
      "metadata": {
        "id": "zCd0kjz_467x"
      }
    },
    {
      "cell_type": "markdown",
      "source": [
        "## **Import packages**\n",
        "Import main packages"
      ],
      "metadata": {
        "id": "iA5MKE2G5MA9"
      }
    },
    {
      "cell_type": "code",
      "source": [
        "# Import\n",
        "import os\n",
        "import numpy as np\n",
        "from time import time\n",
        "from scipy.io import wavfile as wav\n",
        "import matplotlib.pyplot as plt\n",
        "import IPython.display as ipd\n",
        "from sklearn.svm import SVC\n",
        "from sklearn.model_selection import train_test_split, GridSearchCV\n",
        "from sklearn.metrics import classification_report, confusion_matrix\n",
        "from google.colab import drive\n",
        "import tarfile\n",
        "from shutil import copyfile\n",
        "\n",
        "from scipy.fft import fft, fftfreq, rfft, rfftfreq\n",
        "from scipy.signal import spectrogram\n",
        "from librosa.feature import melspectrogram, mfcc\n",
        "from librosa.display import specshow\n",
        "from sklearn.preprocessing import scale"
      ],
      "metadata": {
        "id": "VzZN1a0s5JmH"
      },
      "execution_count": 1,
      "outputs": []
    },
    {
      "cell_type": "markdown",
      "source": [
        "## **Load Data**\n",
        "Data can be retrieved from Google Drive, as follows:"
      ],
      "metadata": {
        "id": "kPeV0ogp5eDW"
      }
    },
    {
      "cell_type": "code",
      "source": [
        "# Define directory path\n",
        "my_dir = 'gdrive/My Drive/Digital Signal and Image Management'"
      ],
      "metadata": {
        "id": "DC5J3MJnoYHO"
      },
      "execution_count": 2,
      "outputs": []
    },
    {
      "cell_type": "code",
      "source": [
        "# Link Google Drive account\n",
        "drive.mount('/content/gdrive')\n",
        "copyfile(f'{my_dir}/recordings.tar', 'recordings.tar')\n",
        "tar = tarfile.open('recordings.tar')\n",
        "tar.extractall()\n",
        "tar.close()"
      ],
      "metadata": {
        "colab": {
          "base_uri": "https://localhost:8080/"
        },
        "id": "WsMdWWta5uhH",
        "outputId": "5451ffa2-026f-4016-956e-b123d9dc698d"
      },
      "execution_count": 3,
      "outputs": [
        {
          "output_type": "stream",
          "name": "stdout",
          "text": [
            "Mounted at /content/gdrive\n"
          ]
        }
      ]
    },
    {
      "cell_type": "markdown",
      "source": [
        "Then, define the function `load_data` that allows to load the data and split it into training and test sets."
      ],
      "metadata": {
        "id": "rDd2XV6Bzu71"
      }
    },
    {
      "cell_type": "code",
      "source": [
        "# Placecholder for feature extractor\n",
        "def identity(input):\n",
        "    return input\n",
        "\n",
        "# Data loader\n",
        "def load_data(feature_extractor=identity, normalize=False):\n",
        "\n",
        "    labels = []\n",
        "    features = []\n",
        "\n",
        "    for f in sorted(os.listdir('./recordings')):\n",
        "        if f.endswith('.wav'):\n",
        "            # Load file and compute the requested features\n",
        "            _, signal = wav.read('./recordings/' + f)\n",
        "            cur_features = feature_extractor(signal)\n",
        "            features.append(cur_features)\n",
        "\n",
        "            # Classes\n",
        "            label = f.split('_')[0]\n",
        "            labels.append(label)\n",
        "\n",
        "    # X: features, y: labels\n",
        "    X_train, X_test, y_train, y_test = train_test_split(features, labels, test_size=0.1, random_state=1)\n",
        "\n",
        "    if normalize:\n",
        "        eps = 0.001\n",
        "        X_train = np.array(X_train)\n",
        "        X_train_mean = X_train.mean(axis=0)\n",
        "        X_train_std = X_train.std(axis=0)\n",
        "        X_train = (X_train - X_train_mean + eps)/(X_train_std + eps)\n",
        "        X_train = [row for row in X_train]\n",
        "\n",
        "        X_test = [row for row in (np.array(X_test) - X_train_mean + eps)/(X_train_std + eps)]\n",
        "\n",
        "    return X_train, X_test, y_train, y_test"
      ],
      "metadata": {
        "id": "KQt3sOgO0F5h"
      },
      "execution_count": 4,
      "outputs": []
    },
    {
      "cell_type": "markdown",
      "source": [
        "The function is structured as follows:\n",
        "1. **Load** the **data** from gdrive (gdrive repository already mounted)\n",
        "2. **Extract** the **class** specified in the filename\n",
        "3. **Split** audio tracks into **training** and **test set**\n",
        "4. **Normalize** the **data** using training set statistics (if the normalize statement is set to `True`)"
      ],
      "metadata": {
        "id": "CpqaFrO_0GoN"
      }
    },
    {
      "cell_type": "markdown",
      "source": [
        "## **Assignement 2.a: Temporal/Frequency features (spectrogram)**"
      ],
      "metadata": {
        "id": "3KhKXdRYUtqS"
      }
    },
    {
      "cell_type": "markdown",
      "source": [
        "As in the first assignment, an initial approach involves **testing the function** on a **single audio track**. This allows for establishing a baseline and verifying functionality before applying it to a larger dataset."
      ],
      "metadata": {
        "id": "KwNhga1WYGs9"
      }
    },
    {
      "cell_type": "markdown",
      "source": [
        "### **1. Extract the 2-dimensional feature**\n",
        "To implement a feature extractor based on **Spectrogram**, apply the function `spectrogram`. It computes a spectrogram with consecutive Fourier transforms (legacy function).\n",
        "\n",
        "**Spectrograms** can be used as a way of visualizing the change of a non-stationary signal’s frequency content over time ([references](https://docs.scipy.org/doc/scipy/reference/generated/scipy.signal.spectrogram.html))."
      ],
      "metadata": {
        "id": "1ZVx9cYLKmoE"
      }
    },
    {
      "cell_type": "code",
      "source": [
        "# Assign a signle audio track to a variable\n",
        "sound_rate, sound_data = wav.read('recordings/0_jackson_0.wav')"
      ],
      "metadata": {
        "id": "insC_oLYKrYg"
      },
      "execution_count": 5,
      "outputs": []
    },
    {
      "cell_type": "markdown",
      "source": [
        "Now, apply the `spectrogram` function to this audio track."
      ],
      "metadata": {
        "id": "tnClJBJgK2W1"
      }
    },
    {
      "cell_type": "code",
      "source": [
        "[spec_freqs, spec_times, spec] = spectrogram(sound_data, fs=sound_rate)"
      ],
      "metadata": {
        "id": "9fgcRkcAbbNx"
      },
      "execution_count": 6,
      "outputs": []
    },
    {
      "cell_type": "markdown",
      "source": [
        "The output is:\n",
        "\n",
        "    f\n",
        "    ndarray: Array of sample frequencies.\n",
        "    t\n",
        "    ndarray: Array of segment times.\n",
        "    Sxx\n",
        "    ndarray: Spectrogram of x. By default, the last axis of Sxx corresponds to the segment times.\n",
        "\n",
        "Note that the `Sxx` dimensions correspond to the shapes of `f` and `t`, respectively. Let's check it out:"
      ],
      "metadata": {
        "id": "H6MF1MbiLLtO"
      }
    },
    {
      "cell_type": "code",
      "source": [
        "# f shape, t shape, Sxx shape\n",
        "spec_freqs.shape, spec_times.shape, spec.shape"
      ],
      "metadata": {
        "colab": {
          "base_uri": "https://localhost:8080/"
        },
        "id": "x00Yu1K1UQNH",
        "outputId": "75ddd2f1-ff30-4293-b966-51375557378e"
      },
      "execution_count": 7,
      "outputs": [
        {
          "output_type": "execute_result",
          "data": {
            "text/plain": [
              "((129,), (22,), (129, 22))"
            ]
          },
          "metadata": {},
          "execution_count": 7
        }
      ]
    },
    {
      "cell_type": "markdown",
      "source": [
        "Since a two-dimensional feature is required, the `spec` matrix should be used to **build the feature extractor**."
      ],
      "metadata": {
        "id": "GCax6PmpUSiU"
      }
    },
    {
      "cell_type": "markdown",
      "source": [
        "### **2. Force the feature to have fixed size**\n",
        "As specified in the assignment, it is necessary to implement code that **enforces a fixed size for the temporal dimension** (columns of the `spec` matrix) while working with 2-dimensional data, rather than flattening the dimensions into one before applying the enforcement procedures."
      ],
      "metadata": {
        "id": "ycrst1ZPnaZ8"
      }
    },
    {
      "cell_type": "code",
      "source": [
        "time_size = 10\n",
        "truncated_matrix = spec[:, 0:min(spec.shape[1], time_size)]\n",
        "if truncated_matrix.shape[1] < time_size:\n",
        "  zero_padding = np.zeros((truncated_matrix.shape[0], time_size - truncated_matrix.shape[1]))\n",
        "  output_matrix = np.concatenate((truncated_matrix, zero_padding), axis=1)\n",
        "else:\n",
        "  output_matrix = truncated_matrix\n",
        "\n",
        "output_matrix.shape"
      ],
      "metadata": {
        "colab": {
          "base_uri": "https://localhost:8080/"
        },
        "id": "lLdBs03fnuaM",
        "outputId": "6f783589-e83f-4fba-afbb-f0157755883c"
      },
      "execution_count": 8,
      "outputs": [
        {
          "output_type": "execute_result",
          "data": {
            "text/plain": [
              "(129, 10)"
            ]
          },
          "metadata": {},
          "execution_count": 8
        }
      ]
    },
    {
      "cell_type": "markdown",
      "source": [
        "**How does it work?**\n",
        "\n",
        "1.\tSet a **fixed time size** (e.g., 10).\n",
        "2.\tCreate a **truncated matrix** by selecting the number of columns, that is the minimum value between the column count of the original matrix and the specified time size.\n",
        "3.\t**Check** if the **number of columns** in the truncated matrix is **less than the fixed time size**. If the truncated matrix has fewer columns:\n",
        "  - Create a **zero-padding** matrix with the necessary dimensions.\n",
        "  - **Concatenate** the truncated matrix with the zero-padding matrix to form the output matrix.\n",
        "4.\tInstead, if the truncated matrix has enough columns:\n",
        "  - Assign the truncated matrix directly to the output matrix.\n",
        "5.\tReturn the shape of the output matrix.\n",
        "\n",
        "It can be verified that the dimensions of `spec` matrix have been reduced from (129, 22) to (129, 10)."
      ],
      "metadata": {
        "id": "1IAMpMSzNoeq"
      }
    },
    {
      "cell_type": "markdown",
      "source": [
        "### **3. Unroll the 2-dimensional feature into a 1-dimensional vector**\n",
        "Now, **unroll** the 2-dimensional `output_matrix` into a 1-dimensional vector.\n",
        "\n",
        "To meet this requirement, the `ravel` function may be useful ([references](https://numpy.org/doc/2.1/reference/generated/numpy.ravel.html))."
      ],
      "metadata": {
        "id": "vFbzVpjpq0Bm"
      }
    },
    {
      "cell_type": "code",
      "source": [
        "output_feature = output_matrix.ravel()\n",
        "output_feature.shape, output_matrix.shape"
      ],
      "metadata": {
        "colab": {
          "base_uri": "https://localhost:8080/"
        },
        "id": "xEQGZfyyqzhg",
        "outputId": "de6407f1-3fca-4dc7-d174-f57a68264632"
      },
      "execution_count": 9,
      "outputs": [
        {
          "output_type": "execute_result",
          "data": {
            "text/plain": [
              "((1290,), (129, 10))"
            ]
          },
          "metadata": {},
          "execution_count": 9
        }
      ]
    },
    {
      "cell_type": "markdown",
      "source": [
        "It can be observed that the unrolling works correctly, as the array’s length matches the product of the matrix rows (129) and columns (10)."
      ],
      "metadata": {
        "id": "rWAJr31Rrjr0"
      }
    },
    {
      "cell_type": "markdown",
      "source": [
        "### **4. Implement the feature extractor**\n",
        "\n",
        "A function can now be defined to assemble all the **previous steps** to be **applied to the entire dataset**. Default parameters are specified, such as `rate` (e.g., when applying the spectrogram to audio data, the sample rate is set to $8000$), that is the number of samples per second in the signal, and `tsize` (set to $10$), which determines the number of temporal blocks, enabling truncation or padding to achieve a fixed size."
      ],
      "metadata": {
        "id": "egFsOrXSd7eg"
      }
    },
    {
      "cell_type": "code",
      "source": [
        "def feats_spectrogram(input, rate=8000, tsize=10):\n",
        "    # Step 1: Extract 2-dimensional feature through the function spectrogram\n",
        "    [spec_freqs, spec_times, spec] = spectrogram(input, fs=rate)\n",
        "\n",
        "    # The input matrix is `spec`\n",
        "    input_matrix = spec\n",
        "\n",
        "    # Step 2: Force the feature time (columns of spec) to have a fixed size\n",
        "    truncated_matrix = input_matrix[:, 0:min(input_matrix.shape[1], tsize)]\n",
        "    if truncated_matrix.shape[1] < tsize:\n",
        "      zero_padding = np.zeros((truncated_matrix.shape[0], tsize - truncated_matrix.shape[1]))\n",
        "      output_matrix = np.concatenate((truncated_matrix, zero_padding), axis=1)\n",
        "    else:\n",
        "      output_matrix = truncated_matrix\n",
        "\n",
        "    # Step 3: Unroll the 2-dimensional feature into a 1-dimensional vector\n",
        "    output = output_matrix.ravel()\n",
        "\n",
        "    return output"
      ],
      "metadata": {
        "id": "FY0TSowOs5B_"
      },
      "execution_count": 10,
      "outputs": []
    },
    {
      "cell_type": "markdown",
      "source": [
        "### **5. Spectrogram Feature Extractor Application**\n",
        "Assess the effects of the implemented feature extractor on classification performance for the dataset *free-spoken-digit-dataset*.\n",
        "\n"
      ],
      "metadata": {
        "id": "ssWsAGj7ZiBF"
      }
    },
    {
      "cell_type": "code",
      "metadata": {
        "id": "cUe7aql4UyJt"
      },
      "source": [
        "# Data loading\n",
        "X_train, X_test, y_train, y_test = load_data(feature_extractor=feats_spectrogram, normalize=True)"
      ],
      "execution_count": 11,
      "outputs": []
    },
    {
      "cell_type": "markdown",
      "source": [
        "Define **SVM classificator** with hyperparameters optimization:"
      ],
      "metadata": {
        "id": "H1cv3q82OJ_W"
      }
    },
    {
      "cell_type": "code",
      "metadata": {
        "outputId": "06dbc864-73e2-456e-84c8-b3f53fb3b2b3",
        "colab": {
          "base_uri": "https://localhost:8080/"
        },
        "id": "2dGEyB9OUyJu"
      },
      "source": [
        "# Parameters to be tested in cross-validation\n",
        "param_grid = {'C': [100, 500, 1000],\n",
        "          'gamma': [0.005, 0.01, 0.1, 0.5, 1.0]}\n",
        "\n",
        "# Support Vector Machine initialization\n",
        "clf = GridSearchCV(SVC(kernel='rbf', class_weight='balanced'), param_grid, cv=2)\n",
        "\n",
        "# Training\n",
        "t0 = time()\n",
        "clf = clf.fit(X_train, y_train)\n",
        "print('Training completed in %0.3fs' % (time() - t0))"
      ],
      "execution_count": 12,
      "outputs": [
        {
          "output_type": "stream",
          "name": "stdout",
          "text": [
            "Training completed in 27.555s\n"
          ]
        }
      ]
    },
    {
      "cell_type": "markdown",
      "source": [
        "Print a summary of cross validation for the parameters selection:"
      ],
      "metadata": {
        "id": "5jFSBbDvOLvk"
      }
    },
    {
      "cell_type": "code",
      "metadata": {
        "outputId": "85d62f19-6549-40d8-b4ff-431b603015bf",
        "colab": {
          "base_uri": "https://localhost:8080/"
        },
        "id": "2VNL2kULUyJu"
      },
      "source": [
        "# Result of the cross validation for parameters selection\n",
        "print('Best parameters combination:')\n",
        "print(' C: '+str(clf.best_estimator_.C))\n",
        "print(' gamma: '+str(clf.best_estimator_.gamma))"
      ],
      "execution_count": 13,
      "outputs": [
        {
          "output_type": "stream",
          "name": "stdout",
          "text": [
            "Best parameters combination:\n",
            " C: 1000\n",
            " gamma: 0.005\n"
          ]
        }
      ]
    },
    {
      "cell_type": "markdown",
      "source": [
        "Finally, make predictions on the test set and comment on the classification performance and confusion matrix.\n",
        "\n",
        "**Classification Metrics**\n",
        "\n",
        "- **Precision**: Precision measures how many of the positive predictions made by the model are actually correct. High precision indicates a low rate of false positives.\n",
        "$$\\frac{True Positives}{(True Positives + False Positives)}$$\n",
        "\n",
        "- **Recall**: Recall measures how many of the actual positive instances are correctly identified by the model. High recall means most positives are detected.\n",
        "$$\\frac{True Positives}{(True Positives + False Negatives)}$$\n",
        "\n",
        "- **F1-Score**: The F1-score is the harmonic mean of precision and recall, balancing both metrics. It’s especially useful when the classes are imbalanced, as it considers both precision and recall in a single metric.\n",
        "$$\\frac{2 * (Precision * Recall) }{(Precision + Recall)}$$\n",
        "\n",
        "- **Accuracy**: Accuracy represents the overall proportion of correctly classified instances (both positives and negatives) out of all instances. However, accuracy alone can be misleading in cases of imbalanced classes.\n",
        "$$\\frac{(True Positives + True Negatives)}{Total Instances}$$"
      ],
      "metadata": {
        "id": "jOk_2c-DOa0u"
      }
    },
    {
      "cell_type": "code",
      "metadata": {
        "outputId": "1b4fb9c8-496b-4721-bfe1-efa08a1cbb6e",
        "colab": {
          "base_uri": "https://localhost:8080/"
        },
        "id": "fKWAsu53UyJv"
      },
      "source": [
        "# SVM test\n",
        "y_pred = clf.predict(X_test)\n",
        "print(classification_report(y_test, y_pred))"
      ],
      "execution_count": 14,
      "outputs": [
        {
          "output_type": "stream",
          "name": "stdout",
          "text": [
            "              precision    recall  f1-score   support\n",
            "\n",
            "           0       0.83      0.59      0.69        17\n",
            "           1       0.58      0.70      0.64        10\n",
            "           2       0.77      0.67      0.71        15\n",
            "           3       0.65      0.58      0.61        19\n",
            "           4       0.30      0.27      0.29        11\n",
            "           5       0.75      0.64      0.69        14\n",
            "           6       0.18      0.64      0.28        14\n",
            "           7       0.67      0.32      0.43        19\n",
            "           8       0.80      0.24      0.36        17\n",
            "           9       0.67      0.43      0.52        14\n",
            "\n",
            "    accuracy                           0.50       150\n",
            "   macro avg       0.62      0.51      0.52       150\n",
            "weighted avg       0.64      0.50      0.53       150\n",
            "\n"
          ]
        }
      ]
    },
    {
      "cell_type": "markdown",
      "source": [
        "The results show that, in most cases, the **classifier’s precision is higher than its recall**. This indicates that while the model performs relatively well in identifying positives among its predictions, it tends to miss many true positives, leading to lower recall. Specifically, the model’s positive predictions have a higher proportion of correct classifications, but it struggles to capture all actual positive cases in the dataset.\n",
        "\n",
        "However, there are exceptions. For classes 6 and 1, recall is notably higher than precision, suggesting that for these classes, the model identifies more of the actual positives but also includes a larger number of false positives. Conversely, classes 0, 7, 8, and 9 show a clear trend where precision outperforms recall, highlighting the classifier’s strength in avoiding false positives for these classes, even if it misses some true positives.\n",
        "\n",
        "Notably, while class 8 demonstrates one of the highest precision scores (80%), it also has the lowest recall (24%).\n",
        "\n",
        "**Average Performance**: Precision across all classes averages around 60%, while recall lags at around 50%. This overall pattern supports the observation that the model is conservative in making positive predictions, often favoring precision over recall. However, these indices stand around low values.\n",
        "\n",
        "**Class-by-Class F1-Score**: The F1-scores summarize the classifier's limited performance, balancing precision and recall. The highest scores are observed for classes 0, 2, and 5 (around 70%), while the lowest are those of classes 4, 6 and 8 (around 30%). The others fall in the 40%-60% range, highlighting that the classifier's performance remains suboptimal.\n",
        "\n",
        "**Overall Accuracy**: The overall accuracy of around 50% suggests that the classifier is effectively making predictions akin to random guessing in many cases, with significant room for improvement."
      ],
      "metadata": {
        "id": "ij1sy8FfQ-Uw"
      }
    },
    {
      "cell_type": "code",
      "source": [
        "# Confusion matrix\n",
        "print('Confusion matrix:')\n",
        "cm = confusion_matrix(y_test, y_pred)\n",
        "plt.imshow(cm, cmap=plt.cm.Blues);\n",
        "plt.xlabel('Prediction');\n",
        "plt.ylabel('Ground truth');"
      ],
      "metadata": {
        "colab": {
          "base_uri": "https://localhost:8080/",
          "height": 466
        },
        "outputId": "295912b6-f168-4b1d-fe59-85b6075ea47a",
        "id": "5pIrh1nBUyJv"
      },
      "execution_count": 15,
      "outputs": [
        {
          "output_type": "stream",
          "name": "stdout",
          "text": [
            "Confusion matrix:\n"
          ]
        },
        {
          "output_type": "display_data",
          "data": {
            "text/plain": [
              "<Figure size 640x480 with 1 Axes>"
            ],
            "image/png": "[encoded data removed]"
          },
          "metadata": {}
        }
      ]
    },
    {
      "cell_type": "markdown",
      "source": [
        "The confusion matrix provides insight into how classifications are distributed across classes, further illustrating trends seen in the precision and recall metrics. To interpret the matrix, observe rows and columns: **rows reflect actual classes** and **columns reflect the predicted ones**.\n",
        "\n",
        "For example, in **class 8**, reading across its row reveals that very few observations were correctly classified as 8 (indicated by the lighter square on the diagonal), while many were **misclassified as classes 3, 7, and particularly 6**. This **confirms the low recall for class 8**, as many true instances are missed. Reading down the column for class 8 shows that few observations were predicted as class 8, but most of those predictions are correct, leading to **high precision**. Based on this observation, the intersection of a row with other columns can be interpreted as the recall for the row-class, while, conversely, the intersection of a column with other rows represents the precision for the column-class.\n",
        "\n",
        "One notable pattern is that across multiple classes, a **significant proportion of observations is misclassified as class 6**, contributing to its low precision. This happens because a large number of instances from other classes are incorrectly assigned to class 6, leading to a high denominator and thus a low precision score. Specifically, classes 4 and 8 frequently end up misclassified as class 6 rather than their true labels.\n",
        "\n",
        "Additionally, the matrix reveals a **clear class imbalance**: some classes have far fewer observations, indicated by the varying intensity of colors along the diagonal. For instance, classes 1 and 4 have significantly fewer samples than class 3. This imbalance likely contributes to the classifier’s inconsistent performance. The imbalance and uneven distribution of classifications suggest that the classifier’s performance is somewhat arbitrary and unstable across classes."
      ],
      "metadata": {
        "id": "7ILiBo_WczWN"
      }
    },
    {
      "cell_type": "markdown",
      "metadata": {
        "id": "IDRUW6JkCl0V"
      },
      "source": [
        "## **Assignement 2.b: Cepstral features (MFCC)**"
      ]
    },
    {
      "cell_type": "markdown",
      "source": [
        "To implement a feature extractor based on **MFCC** (*Mel-Frequency Cepstral Coefficients*), it can be useful to follow the previous approach: first, define and test the procedure on a single audio signal, then create a function to apply it across the entire dataset and assess the effects of the implemented feature extractor on classification performance for the dataset \"free-spoken-digit-dataset\"."
      ],
      "metadata": {
        "id": "wcKYAm47t6Q4"
      }
    },
    {
      "cell_type": "markdown",
      "source": [
        "### **1. Extract the 2-dimensional feature**\n",
        "\n",
        "To extract 2-dimensional feature, it is necessary to apply the `mfcc` function ([references](https://librosa.org/doc/main/generated/librosa.feature.melspectrogram.html)) to `sound_data` (that must be floating), specifing also its `sound_rate`."
      ],
      "metadata": {
        "id": "8UXJGO5qvW2K"
      }
    },
    {
      "cell_type": "code",
      "source": [
        "mfccs = mfcc(y=sound_data*1.0, sr=sound_rate)"
      ],
      "metadata": {
        "id": "OG8Cl5D-vW2O"
      },
      "execution_count": 16,
      "outputs": []
    },
    {
      "cell_type": "code",
      "source": [
        "# Check the shape of mfccs object\n",
        "mfccs.shape"
      ],
      "metadata": {
        "colab": {
          "base_uri": "https://localhost:8080/"
        },
        "outputId": "72283330-1159-4344-b606-298103317ba0",
        "id": "bCG17NMOvW2O"
      },
      "execution_count": 17,
      "outputs": [
        {
          "output_type": "execute_result",
          "data": {
            "text/plain": [
              "(20, 11)"
            ]
          },
          "metadata": {},
          "execution_count": 17
        }
      ]
    },
    {
      "cell_type": "markdown",
      "source": [
        "In this case as well, the output is a **matrix** (i.e., two-dimensional data).\n",
        "\n",
        "### **2. Force the feature to have fixed size**\n",
        "Now, apply the same procedure to set a fixed size for the column dimension of this matrix."
      ],
      "metadata": {
        "id": "LpME_PUyvW2P"
      }
    },
    {
      "cell_type": "code",
      "source": [
        "time_size = 10\n",
        "truncated_matrix = mfccs[:, 0:min(mfccs.shape[1], time_size)]\n",
        "if truncated_matrix.shape[1] < time_size:\n",
        "  zero_padding = np.zeros((truncated_matrix.shape[0], time_size - truncated_matrix.shape[1]))\n",
        "  output_matrix = np.concatenate((truncated_matrix, zero_padding), axis=1)\n",
        "else:\n",
        "  output_matrix = truncated_matrix\n",
        "\n",
        "output_matrix.shape"
      ],
      "metadata": {
        "colab": {
          "base_uri": "https://localhost:8080/"
        },
        "outputId": "bd269e21-fa76-4bba-c3f0-1be0c2c627c6",
        "id": "SFl9XWMDvW2P"
      },
      "execution_count": 18,
      "outputs": [
        {
          "output_type": "execute_result",
          "data": {
            "text/plain": [
              "(20, 10)"
            ]
          },
          "metadata": {},
          "execution_count": 18
        }
      ]
    },
    {
      "cell_type": "markdown",
      "source": [
        "It can be verified that the dimensions of `mfccs` matrix have been reduced from (20, 11) to (20, 10)."
      ],
      "metadata": {
        "id": "95HUjVUtvW2Q"
      }
    },
    {
      "cell_type": "markdown",
      "source": [
        "### **3. Unroll the 2-dimensional feature into a 1-dimensional vector**\n",
        "Now, unroll the 2-dimensional `output_matrix` into a 1-dimensional vector.\n",
        "\n",
        "To meet this requirement, the `ravel` function may be useful ([references](https://numpy.org/devdocs/reference/generated/numpy.ravel.html))."
      ],
      "metadata": {
        "id": "B_z-gtcIkIRo"
      }
    },
    {
      "cell_type": "code",
      "source": [
        "output_feature = output_matrix.ravel()"
      ],
      "metadata": {
        "id": "Rb-QIXxN9ljy"
      },
      "execution_count": 19,
      "outputs": []
    },
    {
      "cell_type": "code",
      "source": [
        "output_feature.shape, output_matrix.shape"
      ],
      "metadata": {
        "colab": {
          "base_uri": "https://localhost:8080/"
        },
        "outputId": "61e2be27-e0be-4ee3-cede-e8f643bb72dd",
        "id": "Q3uIV3GW9lj3"
      },
      "execution_count": 20,
      "outputs": [
        {
          "output_type": "execute_result",
          "data": {
            "text/plain": [
              "((200,), (20, 10))"
            ]
          },
          "metadata": {},
          "execution_count": 20
        }
      ]
    },
    {
      "cell_type": "markdown",
      "source": [
        "In this case as well, it can be observed that the unrolling works correctly, as the array’s length matches the product of the matrix’s rows (20) and columns (10)."
      ],
      "metadata": {
        "id": "x5tjy_kU9lj4"
      }
    },
    {
      "cell_type": "markdown",
      "source": [
        "### **4. Implement the feature extractor**\n",
        "\n",
        "A function can now be defined to assemble all the previous steps to be applied to the entire dataset. Default parameters are specified, such as `rate` (e.g., when applying the spectrogram to audio data, the sample rate is set to $8000$) and `tsize` (set to $10$), which determines the number of temporal blocks, enabling truncation or padding to achieve a fixed size."
      ],
      "metadata": {
        "id": "uVn8fNcHfdby"
      }
    },
    {
      "cell_type": "code",
      "source": [
        "def feats_mfcc(input, rate=8000, tsize=10):\n",
        "    # Step 1: Extract 2-dimensional feature through the function spectrogram\n",
        "    input_matrix = mfcc(y=input*1.0, sr=rate)\n",
        "\n",
        "    # Step 2: Force the feature time (spec_times) to have a fixed size\n",
        "    truncated_matrix = input_matrix[:, 0:min(input_matrix.shape[1], tsize)]\n",
        "    if truncated_matrix.shape[1] < tsize:\n",
        "      zero_padding = np.zeros((truncated_matrix.shape[0], tsize - truncated_matrix.shape[1]))\n",
        "      output_matrix = np.concatenate((truncated_matrix, zero_padding), axis=1)\n",
        "    else:\n",
        "      output_matrix = truncated_matrix\n",
        "\n",
        "    # Step 3: Unroll the 2-dimensional feature into a 1-dimensional vector\n",
        "    output = output_matrix.ravel()\n",
        "\n",
        "    return output"
      ],
      "metadata": {
        "id": "aZd7Di3vxDo4"
      },
      "execution_count": 21,
      "outputs": []
    },
    {
      "cell_type": "code",
      "metadata": {
        "id": "qm_foVFUEFly",
        "colab": {
          "base_uri": "https://localhost:8080/"
        },
        "outputId": "a056fca2-663c-49b6-c579-3726710ad060"
      },
      "source": [
        "# Data loading\n",
        "X_train, X_test, y_train, y_test = load_data(feature_extractor=feats_mfcc, normalize=True)"
      ],
      "execution_count": 22,
      "outputs": [
        {
          "output_type": "stream",
          "name": "stderr",
          "text": [
            "/usr/local/lib/python3.11/dist-packages/librosa/core/spectrum.py:266: UserWarning: n_fft=2048 is too large for input signal of length=2033\n",
            "  warnings.warn(\n",
            "/usr/local/lib/python3.11/dist-packages/librosa/core/spectrum.py:266: UserWarning: n_fft=2048 is too large for input signal of length=1963\n",
            "  warnings.warn(\n",
            "/usr/local/lib/python3.11/dist-packages/librosa/core/spectrum.py:266: UserWarning: n_fft=2048 is too large for input signal of length=2007\n",
            "  warnings.warn(\n",
            "/usr/local/lib/python3.11/dist-packages/librosa/core/spectrum.py:266: UserWarning: n_fft=2048 is too large for input signal of length=1976\n",
            "  warnings.warn(\n",
            "/usr/local/lib/python3.11/dist-packages/librosa/core/spectrum.py:266: UserWarning: n_fft=2048 is too large for input signal of length=1987\n",
            "  warnings.warn(\n",
            "/usr/local/lib/python3.11/dist-packages/librosa/core/spectrum.py:266: UserWarning: n_fft=2048 is too large for input signal of length=1886\n",
            "  warnings.warn(\n",
            "/usr/local/lib/python3.11/dist-packages/librosa/core/spectrum.py:266: UserWarning: n_fft=2048 is too large for input signal of length=1842\n",
            "  warnings.warn(\n",
            "/usr/local/lib/python3.11/dist-packages/librosa/core/spectrum.py:266: UserWarning: n_fft=2048 is too large for input signal of length=1753\n",
            "  warnings.warn(\n",
            "/usr/local/lib/python3.11/dist-packages/librosa/core/spectrum.py:266: UserWarning: n_fft=2048 is too large for input signal of length=1870\n",
            "  warnings.warn(\n",
            "/usr/local/lib/python3.11/dist-packages/librosa/core/spectrum.py:266: UserWarning: n_fft=2048 is too large for input signal of length=1813\n",
            "  warnings.warn(\n",
            "/usr/local/lib/python3.11/dist-packages/librosa/core/spectrum.py:266: UserWarning: n_fft=2048 is too large for input signal of length=1891\n",
            "  warnings.warn(\n",
            "/usr/local/lib/python3.11/dist-packages/librosa/core/spectrum.py:266: UserWarning: n_fft=2048 is too large for input signal of length=1788\n",
            "  warnings.warn(\n",
            "/usr/local/lib/python3.11/dist-packages/librosa/core/spectrum.py:266: UserWarning: n_fft=2048 is too large for input signal of length=1556\n",
            "  warnings.warn(\n",
            "/usr/local/lib/python3.11/dist-packages/librosa/core/spectrum.py:266: UserWarning: n_fft=2048 is too large for input signal of length=1997\n",
            "  warnings.warn(\n",
            "/usr/local/lib/python3.11/dist-packages/librosa/core/spectrum.py:266: UserWarning: n_fft=2048 is too large for input signal of length=1720\n",
            "  warnings.warn(\n",
            "/usr/local/lib/python3.11/dist-packages/librosa/core/spectrum.py:266: UserWarning: n_fft=2048 is too large for input signal of length=1692\n",
            "  warnings.warn(\n",
            "/usr/local/lib/python3.11/dist-packages/librosa/core/spectrum.py:266: UserWarning: n_fft=2048 is too large for input signal of length=1565\n",
            "  warnings.warn(\n",
            "/usr/local/lib/python3.11/dist-packages/librosa/core/spectrum.py:266: UserWarning: n_fft=2048 is too large for input signal of length=1737\n",
            "  warnings.warn(\n",
            "/usr/local/lib/python3.11/dist-packages/librosa/core/spectrum.py:266: UserWarning: n_fft=2048 is too large for input signal of length=1760\n",
            "  warnings.warn(\n",
            "/usr/local/lib/python3.11/dist-packages/librosa/core/spectrum.py:266: UserWarning: n_fft=2048 is too large for input signal of length=1890\n",
            "  warnings.warn(\n",
            "/usr/local/lib/python3.11/dist-packages/librosa/core/spectrum.py:266: UserWarning: n_fft=2048 is too large for input signal of length=2016\n",
            "  warnings.warn(\n",
            "/usr/local/lib/python3.11/dist-packages/librosa/core/spectrum.py:266: UserWarning: n_fft=2048 is too large for input signal of length=1493\n",
            "  warnings.warn(\n",
            "/usr/local/lib/python3.11/dist-packages/librosa/core/spectrum.py:266: UserWarning: n_fft=2048 is too large for input signal of length=1525\n",
            "  warnings.warn(\n",
            "/usr/local/lib/python3.11/dist-packages/librosa/core/spectrum.py:266: UserWarning: n_fft=2048 is too large for input signal of length=1742\n",
            "  warnings.warn(\n",
            "/usr/local/lib/python3.11/dist-packages/librosa/core/spectrum.py:266: UserWarning: n_fft=2048 is too large for input signal of length=1866\n",
            "  warnings.warn(\n",
            "/usr/local/lib/python3.11/dist-packages/librosa/core/spectrum.py:266: UserWarning: n_fft=2048 is too large for input signal of length=1914\n",
            "  warnings.warn(\n",
            "/usr/local/lib/python3.11/dist-packages/librosa/core/spectrum.py:266: UserWarning: n_fft=2048 is too large for input signal of length=1568\n",
            "  warnings.warn(\n",
            "/usr/local/lib/python3.11/dist-packages/librosa/core/spectrum.py:266: UserWarning: n_fft=2048 is too large for input signal of length=1627\n",
            "  warnings.warn(\n",
            "/usr/local/lib/python3.11/dist-packages/librosa/core/spectrum.py:266: UserWarning: n_fft=2048 is too large for input signal of length=1772\n",
            "  warnings.warn(\n",
            "/usr/local/lib/python3.11/dist-packages/librosa/core/spectrum.py:266: UserWarning: n_fft=2048 is too large for input signal of length=1597\n",
            "  warnings.warn(\n",
            "/usr/local/lib/python3.11/dist-packages/librosa/core/spectrum.py:266: UserWarning: n_fft=2048 is too large for input signal of length=1801\n",
            "  warnings.warn(\n",
            "/usr/local/lib/python3.11/dist-packages/librosa/core/spectrum.py:266: UserWarning: n_fft=2048 is too large for input signal of length=1475\n",
            "  warnings.warn(\n",
            "/usr/local/lib/python3.11/dist-packages/librosa/core/spectrum.py:266: UserWarning: n_fft=2048 is too large for input signal of length=1852\n",
            "  warnings.warn(\n",
            "/usr/local/lib/python3.11/dist-packages/librosa/core/spectrum.py:266: UserWarning: n_fft=2048 is too large for input signal of length=1953\n",
            "  warnings.warn(\n",
            "/usr/local/lib/python3.11/dist-packages/librosa/core/spectrum.py:266: UserWarning: n_fft=2048 is too large for input signal of length=1819\n",
            "  warnings.warn(\n",
            "/usr/local/lib/python3.11/dist-packages/librosa/core/spectrum.py:266: UserWarning: n_fft=2048 is too large for input signal of length=1664\n",
            "  warnings.warn(\n",
            "/usr/local/lib/python3.11/dist-packages/librosa/core/spectrum.py:266: UserWarning: n_fft=2048 is too large for input signal of length=1962\n",
            "  warnings.warn(\n",
            "/usr/local/lib/python3.11/dist-packages/librosa/core/spectrum.py:266: UserWarning: n_fft=2048 is too large for input signal of length=1639\n",
            "  warnings.warn(\n",
            "/usr/local/lib/python3.11/dist-packages/librosa/core/spectrum.py:266: UserWarning: n_fft=2048 is too large for input signal of length=1601\n",
            "  warnings.warn(\n",
            "/usr/local/lib/python3.11/dist-packages/librosa/core/spectrum.py:266: UserWarning: n_fft=2048 is too large for input signal of length=1288\n",
            "  warnings.warn(\n",
            "/usr/local/lib/python3.11/dist-packages/librosa/core/spectrum.py:266: UserWarning: n_fft=2048 is too large for input signal of length=1910\n",
            "  warnings.warn(\n",
            "/usr/local/lib/python3.11/dist-packages/librosa/core/spectrum.py:266: UserWarning: n_fft=2048 is too large for input signal of length=1854\n",
            "  warnings.warn(\n",
            "/usr/local/lib/python3.11/dist-packages/librosa/core/spectrum.py:266: UserWarning: n_fft=2048 is too large for input signal of length=1807\n",
            "  warnings.warn(\n",
            "/usr/local/lib/python3.11/dist-packages/librosa/core/spectrum.py:266: UserWarning: n_fft=2048 is too large for input signal of length=1704\n",
            "  warnings.warn(\n",
            "/usr/local/lib/python3.11/dist-packages/librosa/core/spectrum.py:266: UserWarning: n_fft=2048 is too large for input signal of length=1896\n",
            "  warnings.warn(\n",
            "/usr/local/lib/python3.11/dist-packages/librosa/core/spectrum.py:266: UserWarning: n_fft=2048 is too large for input signal of length=2042\n",
            "  warnings.warn(\n",
            "/usr/local/lib/python3.11/dist-packages/librosa/core/spectrum.py:266: UserWarning: n_fft=2048 is too large for input signal of length=2037\n",
            "  warnings.warn(\n",
            "/usr/local/lib/python3.11/dist-packages/librosa/core/spectrum.py:266: UserWarning: n_fft=2048 is too large for input signal of length=1943\n",
            "  warnings.warn(\n",
            "/usr/local/lib/python3.11/dist-packages/librosa/core/spectrum.py:266: UserWarning: n_fft=2048 is too large for input signal of length=1640\n",
            "  warnings.warn(\n",
            "/usr/local/lib/python3.11/dist-packages/librosa/core/spectrum.py:266: UserWarning: n_fft=2048 is too large for input signal of length=1547\n",
            "  warnings.warn(\n",
            "/usr/local/lib/python3.11/dist-packages/librosa/core/spectrum.py:266: UserWarning: n_fft=2048 is too large for input signal of length=1516\n",
            "  warnings.warn(\n",
            "/usr/local/lib/python3.11/dist-packages/librosa/core/spectrum.py:266: UserWarning: n_fft=2048 is too large for input signal of length=1609\n",
            "  warnings.warn(\n",
            "/usr/local/lib/python3.11/dist-packages/librosa/core/spectrum.py:266: UserWarning: n_fft=2048 is too large for input signal of length=1455\n",
            "  warnings.warn(\n",
            "/usr/local/lib/python3.11/dist-packages/librosa/core/spectrum.py:266: UserWarning: n_fft=2048 is too large for input signal of length=1650\n",
            "  warnings.warn(\n",
            "/usr/local/lib/python3.11/dist-packages/librosa/core/spectrum.py:266: UserWarning: n_fft=2048 is too large for input signal of length=1960\n",
            "  warnings.warn(\n",
            "/usr/local/lib/python3.11/dist-packages/librosa/core/spectrum.py:266: UserWarning: n_fft=2048 is too large for input signal of length=1837\n",
            "  warnings.warn(\n",
            "/usr/local/lib/python3.11/dist-packages/librosa/core/spectrum.py:266: UserWarning: n_fft=2048 is too large for input signal of length=1712\n",
            "  warnings.warn(\n",
            "/usr/local/lib/python3.11/dist-packages/librosa/core/spectrum.py:266: UserWarning: n_fft=2048 is too large for input signal of length=1774\n",
            "  warnings.warn(\n",
            "/usr/local/lib/python3.11/dist-packages/librosa/core/spectrum.py:266: UserWarning: n_fft=2048 is too large for input signal of length=1884\n",
            "  warnings.warn(\n",
            "/usr/local/lib/python3.11/dist-packages/librosa/core/spectrum.py:266: UserWarning: n_fft=2048 is too large for input signal of length=1805\n",
            "  warnings.warn(\n",
            "/usr/local/lib/python3.11/dist-packages/librosa/core/spectrum.py:266: UserWarning: n_fft=2048 is too large for input signal of length=1713\n",
            "  warnings.warn(\n",
            "/usr/local/lib/python3.11/dist-packages/librosa/core/spectrum.py:266: UserWarning: n_fft=2048 is too large for input signal of length=2023\n",
            "  warnings.warn(\n",
            "/usr/local/lib/python3.11/dist-packages/librosa/core/spectrum.py:266: UserWarning: n_fft=2048 is too large for input signal of length=1915\n",
            "  warnings.warn(\n",
            "/usr/local/lib/python3.11/dist-packages/librosa/core/spectrum.py:266: UserWarning: n_fft=2048 is too large for input signal of length=1931\n",
            "  warnings.warn(\n",
            "/usr/local/lib/python3.11/dist-packages/librosa/core/spectrum.py:266: UserWarning: n_fft=2048 is too large for input signal of length=1793\n",
            "  warnings.warn(\n",
            "/usr/local/lib/python3.11/dist-packages/librosa/core/spectrum.py:266: UserWarning: n_fft=2048 is too large for input signal of length=1824\n",
            "  warnings.warn(\n",
            "/usr/local/lib/python3.11/dist-packages/librosa/core/spectrum.py:266: UserWarning: n_fft=2048 is too large for input signal of length=1579\n",
            "  warnings.warn(\n",
            "/usr/local/lib/python3.11/dist-packages/librosa/core/spectrum.py:266: UserWarning: n_fft=2048 is too large for input signal of length=1817\n",
            "  warnings.warn(\n",
            "/usr/local/lib/python3.11/dist-packages/librosa/core/spectrum.py:266: UserWarning: n_fft=2048 is too large for input signal of length=1876\n",
            "  warnings.warn(\n",
            "/usr/local/lib/python3.11/dist-packages/librosa/core/spectrum.py:266: UserWarning: n_fft=2048 is too large for input signal of length=1958\n",
            "  warnings.warn(\n",
            "/usr/local/lib/python3.11/dist-packages/librosa/core/spectrum.py:266: UserWarning: n_fft=2048 is too large for input signal of length=1560\n",
            "  warnings.warn(\n",
            "/usr/local/lib/python3.11/dist-packages/librosa/core/spectrum.py:266: UserWarning: n_fft=2048 is too large for input signal of length=1795\n",
            "  warnings.warn(\n",
            "/usr/local/lib/python3.11/dist-packages/librosa/core/spectrum.py:266: UserWarning: n_fft=2048 is too large for input signal of length=2036\n",
            "  warnings.warn(\n",
            "/usr/local/lib/python3.11/dist-packages/librosa/core/spectrum.py:266: UserWarning: n_fft=2048 is too large for input signal of length=1846\n",
            "  warnings.warn(\n",
            "/usr/local/lib/python3.11/dist-packages/librosa/core/spectrum.py:266: UserWarning: n_fft=2048 is too large for input signal of length=1803\n",
            "  warnings.warn(\n",
            "/usr/local/lib/python3.11/dist-packages/librosa/core/spectrum.py:266: UserWarning: n_fft=2048 is too large for input signal of length=1945\n",
            "  warnings.warn(\n",
            "/usr/local/lib/python3.11/dist-packages/librosa/core/spectrum.py:266: UserWarning: n_fft=2048 is too large for input signal of length=2001\n",
            "  warnings.warn(\n",
            "/usr/local/lib/python3.11/dist-packages/librosa/core/spectrum.py:266: UserWarning: n_fft=2048 is too large for input signal of length=1832\n",
            "  warnings.warn(\n",
            "/usr/local/lib/python3.11/dist-packages/librosa/core/spectrum.py:266: UserWarning: n_fft=2048 is too large for input signal of length=2039\n",
            "  warnings.warn(\n",
            "/usr/local/lib/python3.11/dist-packages/librosa/core/spectrum.py:266: UserWarning: n_fft=2048 is too large for input signal of length=1873\n",
            "  warnings.warn(\n",
            "/usr/local/lib/python3.11/dist-packages/librosa/core/spectrum.py:266: UserWarning: n_fft=2048 is too large for input signal of length=1632\n",
            "  warnings.warn(\n",
            "/usr/local/lib/python3.11/dist-packages/librosa/core/spectrum.py:266: UserWarning: n_fft=2048 is too large for input signal of length=1806\n",
            "  warnings.warn(\n",
            "/usr/local/lib/python3.11/dist-packages/librosa/core/spectrum.py:266: UserWarning: n_fft=2048 is too large for input signal of length=2022\n",
            "  warnings.warn(\n",
            "/usr/local/lib/python3.11/dist-packages/librosa/core/spectrum.py:266: UserWarning: n_fft=2048 is too large for input signal of length=2014\n",
            "  warnings.warn(\n",
            "/usr/local/lib/python3.11/dist-packages/librosa/core/spectrum.py:266: UserWarning: n_fft=2048 is too large for input signal of length=2045\n",
            "  warnings.warn(\n",
            "/usr/local/lib/python3.11/dist-packages/librosa/core/spectrum.py:266: UserWarning: n_fft=2048 is too large for input signal of length=1790\n",
            "  warnings.warn(\n",
            "/usr/local/lib/python3.11/dist-packages/librosa/core/spectrum.py:266: UserWarning: n_fft=2048 is too large for input signal of length=1705\n",
            "  warnings.warn(\n",
            "/usr/local/lib/python3.11/dist-packages/librosa/core/spectrum.py:266: UserWarning: n_fft=2048 is too large for input signal of length=1673\n",
            "  warnings.warn(\n",
            "/usr/local/lib/python3.11/dist-packages/librosa/core/spectrum.py:266: UserWarning: n_fft=2048 is too large for input signal of length=1970\n",
            "  warnings.warn(\n",
            "/usr/local/lib/python3.11/dist-packages/librosa/core/spectrum.py:266: UserWarning: n_fft=2048 is too large for input signal of length=1722\n",
            "  warnings.warn(\n",
            "/usr/local/lib/python3.11/dist-packages/librosa/core/spectrum.py:266: UserWarning: n_fft=2048 is too large for input signal of length=1850\n",
            "  warnings.warn(\n",
            "/usr/local/lib/python3.11/dist-packages/librosa/core/spectrum.py:266: UserWarning: n_fft=2048 is too large for input signal of length=1843\n",
            "  warnings.warn(\n",
            "/usr/local/lib/python3.11/dist-packages/librosa/core/spectrum.py:266: UserWarning: n_fft=2048 is too large for input signal of length=1778\n",
            "  warnings.warn(\n",
            "/usr/local/lib/python3.11/dist-packages/librosa/core/spectrum.py:266: UserWarning: n_fft=2048 is too large for input signal of length=1433\n",
            "  warnings.warn(\n",
            "/usr/local/lib/python3.11/dist-packages/librosa/core/spectrum.py:266: UserWarning: n_fft=2048 is too large for input signal of length=1296\n",
            "  warnings.warn(\n",
            "/usr/local/lib/python3.11/dist-packages/librosa/core/spectrum.py:266: UserWarning: n_fft=2048 is too large for input signal of length=2012\n",
            "  warnings.warn(\n",
            "/usr/local/lib/python3.11/dist-packages/librosa/core/spectrum.py:266: UserWarning: n_fft=2048 is too large for input signal of length=1911\n",
            "  warnings.warn(\n",
            "/usr/local/lib/python3.11/dist-packages/librosa/core/spectrum.py:266: UserWarning: n_fft=2048 is too large for input signal of length=1569\n",
            "  warnings.warn(\n",
            "/usr/local/lib/python3.11/dist-packages/librosa/core/spectrum.py:266: UserWarning: n_fft=2048 is too large for input signal of length=1973\n",
            "  warnings.warn(\n",
            "/usr/local/lib/python3.11/dist-packages/librosa/core/spectrum.py:266: UserWarning: n_fft=2048 is too large for input signal of length=1434\n",
            "  warnings.warn(\n",
            "/usr/local/lib/python3.11/dist-packages/librosa/core/spectrum.py:266: UserWarning: n_fft=2048 is too large for input signal of length=1295\n",
            "  warnings.warn(\n",
            "/usr/local/lib/python3.11/dist-packages/librosa/core/spectrum.py:266: UserWarning: n_fft=2048 is too large for input signal of length=1403\n",
            "  warnings.warn(\n",
            "/usr/local/lib/python3.11/dist-packages/librosa/core/spectrum.py:266: UserWarning: n_fft=2048 is too large for input signal of length=1634\n",
            "  warnings.warn(\n",
            "/usr/local/lib/python3.11/dist-packages/librosa/core/spectrum.py:266: UserWarning: n_fft=2048 is too large for input signal of length=1357\n",
            "  warnings.warn(\n",
            "/usr/local/lib/python3.11/dist-packages/librosa/core/spectrum.py:266: UserWarning: n_fft=2048 is too large for input signal of length=1968\n",
            "  warnings.warn(\n",
            "/usr/local/lib/python3.11/dist-packages/librosa/core/spectrum.py:266: UserWarning: n_fft=2048 is too large for input signal of length=1593\n",
            "  warnings.warn(\n",
            "/usr/local/lib/python3.11/dist-packages/librosa/core/spectrum.py:266: UserWarning: n_fft=2048 is too large for input signal of length=1913\n",
            "  warnings.warn(\n",
            "/usr/local/lib/python3.11/dist-packages/librosa/core/spectrum.py:266: UserWarning: n_fft=2048 is too large for input signal of length=1149\n",
            "  warnings.warn(\n",
            "/usr/local/lib/python3.11/dist-packages/librosa/core/spectrum.py:266: UserWarning: n_fft=2048 is too large for input signal of length=1610\n",
            "  warnings.warn(\n",
            "/usr/local/lib/python3.11/dist-packages/librosa/core/spectrum.py:266: UserWarning: n_fft=2048 is too large for input signal of length=1259\n",
            "  warnings.warn(\n",
            "/usr/local/lib/python3.11/dist-packages/librosa/core/spectrum.py:266: UserWarning: n_fft=2048 is too large for input signal of length=1978\n",
            "  warnings.warn(\n",
            "/usr/local/lib/python3.11/dist-packages/librosa/core/spectrum.py:266: UserWarning: n_fft=2048 is too large for input signal of length=1965\n",
            "  warnings.warn(\n",
            "/usr/local/lib/python3.11/dist-packages/librosa/core/spectrum.py:266: UserWarning: n_fft=2048 is too large for input signal of length=2020\n",
            "  warnings.warn(\n",
            "/usr/local/lib/python3.11/dist-packages/librosa/core/spectrum.py:266: UserWarning: n_fft=2048 is too large for input signal of length=1998\n",
            "  warnings.warn(\n",
            "/usr/local/lib/python3.11/dist-packages/librosa/core/spectrum.py:266: UserWarning: n_fft=2048 is too large for input signal of length=1858\n",
            "  warnings.warn(\n",
            "/usr/local/lib/python3.11/dist-packages/librosa/core/spectrum.py:266: UserWarning: n_fft=2048 is too large for input signal of length=1936\n",
            "  warnings.warn(\n",
            "/usr/local/lib/python3.11/dist-packages/librosa/core/spectrum.py:266: UserWarning: n_fft=2048 is too large for input signal of length=2015\n",
            "  warnings.warn(\n"
          ]
        }
      ]
    },
    {
      "cell_type": "code",
      "source": [
        "# Parameters to be tested in cross-validation\n",
        "param_grid = {'C': [100, 500, 1000],\n",
        "              'gamma': [0.005, 0.01, 0.1, 0.5, 1.0]}\n",
        "\n",
        "# Support Vector Machine initialization\n",
        "clf = GridSearchCV(SVC(kernel='rbf', class_weight='balanced'), param_grid, cv=2)\n",
        "\n",
        "# Training\n",
        "t0 = time()\n",
        "clf.fit(X_train, y_train)\n",
        "print('Training completed in %0.3fs' % (time() - t0))\n",
        "\n",
        "# Result of the cross-validation for parameter selection\n",
        "print('Best parameters combination:')\n",
        "print(' C: ' + str(clf.best_estimator_.C))\n",
        "print(' gamma: ' + str(clf.best_estimator_.gamma))\n",
        "\n",
        "# SVM test\n",
        "y_pred = clf.predict(X_test)\n",
        "print(classification_report(y_test, y_pred))\n",
        "\n",
        "# Confusion matrix\n",
        "print('Confusion matrix:')\n",
        "cm = confusion_matrix(y_test, y_pred)\n",
        "plt.imshow(cm, cmap=plt.cm.Blues)\n",
        "plt.xlabel('Ground truth')\n",
        "plt.ylabel('Prediction')\n",
        "plt.title('Confusion Matrix')\n",
        "plt.colorbar()\n",
        "plt.show()"
      ],
      "metadata": {
        "colab": {
          "base_uri": "https://localhost:8080/",
          "height": 854
        },
        "id": "JV_FdmWUiwhR",
        "outputId": "a35689c3-f20a-4246-c2b2-781220f13842"
      },
      "execution_count": 23,
      "outputs": [
        {
          "output_type": "stream",
          "name": "stdout",
          "text": [
            "Training completed in 5.999s\n",
            "Best parameters combination:\n",
            " C: 100\n",
            " gamma: 0.005\n",
            "              precision    recall  f1-score   support\n",
            "\n",
            "           0       1.00      1.00      1.00        17\n",
            "           1       1.00      1.00      1.00        10\n",
            "           2       1.00      1.00      1.00        15\n",
            "           3       1.00      1.00      1.00        19\n",
            "           4       1.00      1.00      1.00        11\n",
            "           5       1.00      1.00      1.00        14\n",
            "           6       1.00      1.00      1.00        14\n",
            "           7       1.00      0.95      0.97        19\n",
            "           8       1.00      1.00      1.00        17\n",
            "           9       0.93      1.00      0.97        14\n",
            "\n",
            "    accuracy                           0.99       150\n",
            "   macro avg       0.99      0.99      0.99       150\n",
            "weighted avg       0.99      0.99      0.99       150\n",
            "\n",
            "Confusion matrix:\n"
          ]
        },
        {
          "output_type": "display_data",
          "data": {
            "text/plain": [
              "<Figure size 640x480 with 2 Axes>"
            ],
            "image/png": "[encoded data removed]"
          },
          "metadata": {}
        }
      ]
    },
    {
      "cell_type": "markdown",
      "source": [
        "Despite the good performance, some warnings may appear due to the `n_fft` parameter, which specifies the number of points in the Fourier transform, defaulting to **2048**. If the input signal is shorter than this length, the Fourier transform may lead to padding or accuracy issues. Here are a few approaches to handle this:\n",
        "\n",
        "1. **Set a Smaller Value for `n_fft`**  \n",
        "   Use a value for `n_fft` that is a power of 2 and less than the length of the signal. For example:\n",
        "   ```python\n",
        "   mfccs = mfcc(y=sound_data * 1.0, sr=sound_rate, n_fft=1024)\n",
        "   ```\n",
        "\n",
        "2. **Apply Zero-Padding to the Signal**  \n",
        "   Keep `n_fft = 2048`, but apply zero-padding to the signal if it is shorter than 2048. This approach keeps the default Fourier window size:\n",
        "   ```python\n",
        "   if len(sound_data) < 2048:\n",
        "       sound_data = np.pad(sound_data, (0, 2048 - len(sound_data)))\n",
        "\n",
        "   mfccs = mfcc(y=sound_data * 1.0, sr=sound_rate)\n",
        "   ```\n",
        "\n",
        "3. **Dynamic Adjustment of `n_fft`**  \n",
        "   Use `2048` if the signal is long enough; otherwise, set `n_fft` to the length of the signal:\n",
        "   ```python\n",
        "   n_fft = min(2048, len(sound_data))\n",
        "   mfccs = mfcc(y=sound_data * 1.0, sr=sound_rate, n_fft=n_fft)\n",
        "   ```\n",
        "\n",
        "The first two approaches maintain a fixed `n_fft` value for each observation, whereas the third approach allows `n_fft` to vary dynamically, depending on the signal length."
      ],
      "metadata": {
        "id": "TwjJoBQylDVM"
      }
    },
    {
      "cell_type": "markdown",
      "source": [
        "Now, proceed to implement each option individually by first defining the different feature extractors and then reproducing the following code:\n",
        "\n",
        "```python\n",
        "# Data loading\n",
        "X_train, X_test, y_train, y_test = load_data(feature_extractor=feats_mfcc, normalize=True)\n",
        "\n",
        "# Parameters to be tested in cross-validation\n",
        "param_grid = {'C': [100, 500, 1000],\n",
        "          'gamma': [0.005, 0.01, 0.1, 0.5, 1.0]}\n",
        "\n",
        "# Support Vector Machine initialization\n",
        "clf = GridSearchCV(SVC(kernel='rbf', class_weight='balanced'), param_grid, cv=2)\n",
        "\n",
        "# Training\n",
        "t0 = time()\n",
        "clf = clf.fit(X_train, y_train)\n",
        "print('Training completed in %0.3fs' % (time() - t0))\n",
        "\n",
        "# Result of the cross validation for parameters selection\n",
        "print('Best parameters combination:')\n",
        "print(' C: '+str(clf.best_estimator_.C))\n",
        "print(' gamma: '+str(clf.best_estimator_.gamma))\n",
        "\n",
        "# SVM test\n",
        "y_pred = clf.predict(X_test)\n",
        "print(classification_report(y_test, y_pred))\n",
        "\n",
        "# Confusion matrix\n",
        "print('Confusion matrix:')\n",
        "cm = confusion_matrix(y_test, y_pred)\n",
        "plt.imshow(cm, cmap=plt.cm.Blues);\n",
        "plt.xlabel('Ground truth');\n",
        "plt.ylabel('Prediction');\n",
        "\n",
        "```"
      ],
      "metadata": {
        "id": "t6H1LmFFn36k"
      }
    },
    {
      "cell_type": "markdown",
      "source": [
        "**Note**: To enhance code readability, encapsulate all these steps within a single function."
      ],
      "metadata": {
        "id": "UXb4Z-w-paKC"
      }
    },
    {
      "cell_type": "code",
      "source": [
        "def train_and_evaluate_svm(feature_extractor, normalize=True):\n",
        "    # Data loading\n",
        "    X_train, X_test, y_train, y_test = load_data(feature_extractor=feature_extractor, normalize=normalize)\n",
        "\n",
        "    # Parameters to be tested in cross-validation\n",
        "    param_grid = {'C': [100, 500, 1000],\n",
        "                  'gamma': [0.005, 0.01, 0.1, 0.5, 1.0]}\n",
        "\n",
        "    # Support Vector Machine initialization\n",
        "    clf = GridSearchCV(SVC(kernel='rbf', class_weight='balanced'), param_grid, cv=2)\n",
        "\n",
        "    # Training\n",
        "    t0 = time()\n",
        "    clf.fit(X_train, y_train)\n",
        "    print('Training completed in %0.3fs' % (time() - t0))\n",
        "\n",
        "    # Result of the cross-validation for parameter selection\n",
        "    print('Best parameters combination:')\n",
        "    print(' C: ' + str(clf.best_estimator_.C))\n",
        "    print(' gamma: ' + str(clf.best_estimator_.gamma))\n",
        "\n",
        "    # SVM test\n",
        "    y_pred = clf.predict(X_test)\n",
        "    print(classification_report(y_test, y_pred))\n",
        "\n",
        "    # Confusion matrix\n",
        "    print('Confusion matrix:')\n",
        "    cm = confusion_matrix(y_test, y_pred)\n",
        "    plt.imshow(cm, cmap=plt.cm.Blues)\n",
        "    plt.xlabel('Ground truth')\n",
        "    plt.ylabel('Prediction')\n",
        "    plt.title('Confusion Matrix')\n",
        "    plt.colorbar()\n",
        "    plt.show()"
      ],
      "metadata": {
        "id": "w558uMK6pi6J"
      },
      "execution_count": 24,
      "outputs": []
    },
    {
      "cell_type": "markdown",
      "source": [
        "### **5.1 MFCC Feature Extractor (attempt 1)**\n",
        "\n",
        "Use a value for `n_fft` that is a power of 2 and less than the length of your signal. For example:\n",
        "```python\n",
        "mfccs = mfcc(y=sound_data * 1.0, sr=sound_rate, n_fft=1024)\n",
        "```"
      ],
      "metadata": {
        "id": "exceiG74op8m"
      }
    },
    {
      "cell_type": "code",
      "source": [
        "def feats_mfcc1(input, rate=8000, tsize=10):\n",
        "    # Step 1: Extract 2-dimensional feature through the function spectrogram\n",
        "    input_matrix = mfcc(y=input*1.0, sr=rate, n_fft = 1024)\n",
        "\n",
        "    # Step 2: Force the feature time (spec_times) to have a fixed size\n",
        "    truncated_matrix = input_matrix[:, 0:min(input_matrix.shape[1], tsize)]\n",
        "    if truncated_matrix.shape[1] < tsize:\n",
        "      zero_padding = np.zeros((truncated_matrix.shape[0], tsize - truncated_matrix.shape[1]))\n",
        "      output_matrix = np.concatenate((truncated_matrix, zero_padding), axis=1)\n",
        "    else:\n",
        "      output_matrix = truncated_matrix\n",
        "\n",
        "    # Step 3: Unroll the 2-dimensional feature into a 1-dimensional vector\n",
        "    output = output_matrix.ravel()\n",
        "\n",
        "    return output"
      ],
      "metadata": {
        "id": "zLKIexyvo6_A"
      },
      "execution_count": 25,
      "outputs": []
    },
    {
      "cell_type": "code",
      "source": [
        "train_and_evaluate_svm(feats_mfcc1)"
      ],
      "metadata": {
        "colab": {
          "base_uri": "https://localhost:8080/",
          "height": 854
        },
        "id": "wKenyHTLqWMM",
        "outputId": "d01f7101-7bb8-4cad-80ca-231d39dd7702"
      },
      "execution_count": 26,
      "outputs": [
        {
          "output_type": "stream",
          "name": "stdout",
          "text": [
            "Training completed in 7.931s\n",
            "Best parameters combination:\n",
            " C: 100\n",
            " gamma: 0.005\n",
            "              precision    recall  f1-score   support\n",
            "\n",
            "           0       1.00      1.00      1.00        17\n",
            "           1       1.00      1.00      1.00        10\n",
            "           2       1.00      1.00      1.00        15\n",
            "           3       0.95      1.00      0.97        19\n",
            "           4       1.00      1.00      1.00        11\n",
            "           5       1.00      1.00      1.00        14\n",
            "           6       1.00      0.93      0.96        14\n",
            "           7       1.00      0.95      0.97        19\n",
            "           8       1.00      1.00      1.00        17\n",
            "           9       0.93      1.00      0.97        14\n",
            "\n",
            "    accuracy                           0.99       150\n",
            "   macro avg       0.99      0.99      0.99       150\n",
            "weighted avg       0.99      0.99      0.99       150\n",
            "\n",
            "Confusion matrix:\n"
          ]
        },
        {
          "output_type": "display_data",
          "data": {
            "text/plain": [
              "<Figure size 640x480 with 2 Axes>"
            ],
            "image/png": "[encoded data removed]"
          },
          "metadata": {}
        }
      ]
    },
    {
      "cell_type": "markdown",
      "source": [
        "### **5.2 MFCC Feature Extractor (attempt 2)**\n",
        "\n",
        "Keep `n_fft = 2048`, but apply zero-padding to the signal if it is shorter than 2048. This approach keeps the default Fourier window size:\n",
        "   ```python\n",
        "   if len(sound_data) < 2048:\n",
        "       sound_data = np.pad(sound_data, (0, 2048 - len(sound_data)))\n",
        "\n",
        "   mfccs = mfcc(y=sound_data * 1.0, sr=sound_rate)\n",
        "   ```"
      ],
      "metadata": {
        "id": "2bbHt7HVag6S"
      }
    },
    {
      "cell_type": "code",
      "source": [
        "def feats_mfcc2(input, rate=8000, tsize=10):\n",
        "    # Step 1: Extract 2-dimensional feature through the function spectrogram\n",
        "    if len(input) < 2048:\n",
        "      input = np.pad(input, (0, 2048 - len(input)))\n",
        "\n",
        "    input_matrix = mfcc(y=input*1.0, sr=rate)\n",
        "\n",
        "    # Step 2: Force the feature time (spec_times) to have a fixed size\n",
        "    truncated_matrix = input_matrix[:, 0:min(input_matrix.shape[1], tsize)]\n",
        "    if truncated_matrix.shape[1] < tsize:\n",
        "      zero_padding = np.zeros((truncated_matrix.shape[0], tsize - truncated_matrix.shape[1]))\n",
        "      output_matrix = np.concatenate((truncated_matrix, zero_padding), axis=1)\n",
        "    else:\n",
        "      output_matrix = truncated_matrix\n",
        "\n",
        "    # Step 3: Unroll the 2-dimensional feature into a 1-dimensional vector\n",
        "    output = output_matrix.ravel()\n",
        "\n",
        "    return output"
      ],
      "metadata": {
        "id": "SHTpZ81jag6W"
      },
      "execution_count": 27,
      "outputs": []
    },
    {
      "cell_type": "code",
      "source": [
        "train_and_evaluate_svm(feats_mfcc2)"
      ],
      "metadata": {
        "colab": {
          "base_uri": "https://localhost:8080/",
          "height": 854
        },
        "outputId": "353fc82a-6bcd-467b-a3e1-0b5de3833e8b",
        "id": "CuUbjwJkag6X"
      },
      "execution_count": 28,
      "outputs": [
        {
          "output_type": "stream",
          "name": "stdout",
          "text": [
            "Training completed in 7.432s\n",
            "Best parameters combination:\n",
            " C: 100\n",
            " gamma: 0.005\n",
            "              precision    recall  f1-score   support\n",
            "\n",
            "           0       1.00      1.00      1.00        17\n",
            "           1       1.00      1.00      1.00        10\n",
            "           2       1.00      1.00      1.00        15\n",
            "           3       1.00      1.00      1.00        19\n",
            "           4       1.00      1.00      1.00        11\n",
            "           5       1.00      1.00      1.00        14\n",
            "           6       1.00      1.00      1.00        14\n",
            "           7       1.00      0.95      0.97        19\n",
            "           8       1.00      1.00      1.00        17\n",
            "           9       0.93      1.00      0.97        14\n",
            "\n",
            "    accuracy                           0.99       150\n",
            "   macro avg       0.99      0.99      0.99       150\n",
            "weighted avg       0.99      0.99      0.99       150\n",
            "\n",
            "Confusion matrix:\n"
          ]
        },
        {
          "output_type": "display_data",
          "data": {
            "text/plain": [
              "<Figure size 640x480 with 2 Axes>"
            ],
            "image/png": "[encoded data removed]"
          },
          "metadata": {}
        }
      ]
    },
    {
      "cell_type": "markdown",
      "source": [
        "### **5.3 MFCC Feature Extractor (attempt 3)**\n",
        "\n",
        "Use `2048` if the signal is long enough; otherwise, set `n_fft` to the length of the signal:\n",
        "   ```python\n",
        "   n_fft = min(2048, len(sound_data))\n",
        "   mfccs = mfcc(y=sound_data * 1.0, sr=sound_rate, n_fft=n_fft)\n",
        "   ```"
      ],
      "metadata": {
        "id": "ET35jGBPdnY2"
      }
    },
    {
      "cell_type": "code",
      "source": [
        "def feats_mfcc3(input, rate=8000, tsize=10):\n",
        "    # Step 1: Extract 2-dimensional feature through the function spectrogram\n",
        "    input_matrix = mfcc(y=input*1.0, sr=rate, n_fft=min(2048, len(input)))\n",
        "\n",
        "    # Step 2: Force the feature time (spec_times) to have a fixed size\n",
        "    truncated_matrix = input_matrix[:, 0:min(input_matrix.shape[1], tsize)]\n",
        "    if truncated_matrix.shape[1] < tsize:\n",
        "      zero_padding = np.zeros((truncated_matrix.shape[0], tsize - truncated_matrix.shape[1]))\n",
        "      output_matrix = np.concatenate((truncated_matrix, zero_padding), axis=1)\n",
        "    else:\n",
        "      output_matrix = truncated_matrix\n",
        "\n",
        "    # Step 3: Unroll the 2-dimensional feature into a 1-dimensional vector\n",
        "    output = output_matrix.ravel()\n",
        "\n",
        "    return output"
      ],
      "metadata": {
        "id": "c1VO0JUpdnY5"
      },
      "execution_count": 29,
      "outputs": []
    },
    {
      "cell_type": "code",
      "source": [
        "train_and_evaluate_svm(feats_mfcc3)"
      ],
      "metadata": {
        "colab": {
          "base_uri": "https://localhost:8080/",
          "height": 854
        },
        "outputId": "e490f3e7-730a-42dc-93c3-c0c571170365",
        "id": "_nqWDCMVdnY6"
      },
      "execution_count": 30,
      "outputs": [
        {
          "output_type": "stream",
          "name": "stdout",
          "text": [
            "Training completed in 7.797s\n",
            "Best parameters combination:\n",
            " C: 100\n",
            " gamma: 0.005\n",
            "              precision    recall  f1-score   support\n",
            "\n",
            "           0       1.00      1.00      1.00        17\n",
            "           1       1.00      1.00      1.00        10\n",
            "           2       1.00      1.00      1.00        15\n",
            "           3       1.00      1.00      1.00        19\n",
            "           4       1.00      1.00      1.00        11\n",
            "           5       1.00      1.00      1.00        14\n",
            "           6       1.00      1.00      1.00        14\n",
            "           7       1.00      0.95      0.97        19\n",
            "           8       1.00      1.00      1.00        17\n",
            "           9       0.93      1.00      0.97        14\n",
            "\n",
            "    accuracy                           0.99       150\n",
            "   macro avg       0.99      0.99      0.99       150\n",
            "weighted avg       0.99      0.99      0.99       150\n",
            "\n",
            "Confusion matrix:\n"
          ]
        },
        {
          "output_type": "display_data",
          "data": {
            "text/plain": [
              "<Figure size 640x480 with 2 Axes>"
            ],
            "image/png": "[encoded data removed]"
          },
          "metadata": {}
        }
      ]
    },
    {
      "cell_type": "markdown",
      "source": [
        "Each of the three attempts reflects the same high performance as the original feature extractor without any specific adjustments to `n_fft`, with all previous warnings resolved. This suggests that setting a fixed length for each audio signal or varying it based on its original length has neutral impact on performance.\n",
        "\n",
        "The model’s performance on this test set is exceptional, with an accuracy of 99%. Precision and recall are nearly perfect across all classes, reaching 100% in most cases, and exceeding 90% for the few exceptions. These consistently strong results indicate robust classification.\n",
        "\n",
        "This high performance demonstrates that using `mfcc` as a feature extractor is more effective for this classification task compared to using a `standard spectrogram`. This advantage may suggest that, in this particular application, `mfcc` has the ability to reduce noise and create more comparable training and test sets.\n",
        "\n",
        "It’s worth noting that MFCCs are designed to reflect the human ear’s perception of sound, emphasizing frequencies that are more distinguishable to humans. By mapping frequencies to the mel scale—a nonlinear scale aligned with our perception of pitch changes—MFCCs capture audio features more relevant to human speech and other complex sounds."
      ],
      "metadata": {
        "id": "mAbX2rxMig3M"
      }
    }
  ]
}